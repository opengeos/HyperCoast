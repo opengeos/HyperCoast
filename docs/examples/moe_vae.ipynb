{
 "cells": [
  {
   "cell_type": "markdown",
   "id": "0",
   "metadata": {
    "vscode": {
     "languageId": "plaintext"
    }
   },
   "source": [
    "[![image](https://colab.research.google.com/assets/colab-badge.svg)](https://colab.research.google.com/github/opengeos/HyperCoast/blob/main/docs/examples/moe_vae.ipynb)\n",
    "\n",
    "## Mixture of Experts Variational Autoencoder (MoE-VAE)\n",
    "\n",
    "This example demonstrates how to use the Mixture of Experts Variational Autoencoder (MoE-VAE) to predict chlorophyll-a (chl-a) using PACE data."
   ]
  },
  {
   "cell_type": "code",
   "execution_count": null,
   "id": "1",
   "metadata": {},
   "outputs": [],
   "source": [
    "# %pip install \"hypercoast[all]\""
   ]
  },
  {
   "cell_type": "markdown",
   "id": "2",
   "metadata": {},
   "source": [
    "## Import libraries"
   ]
  },
  {
   "cell_type": "code",
   "execution_count": null,
   "id": "3",
   "metadata": {},
   "outputs": [],
   "source": [
    "import os\n",
    "import numpy as np\n",
    "import pandas as pd\n",
    "import rasterio\n",
    "import torch"
   ]
  },
  {
   "cell_type": "code",
   "execution_count": null,
   "id": "4",
   "metadata": {},
   "outputs": [],
   "source": [
    "from hypercoast import download_file\n",
    "from hypercoast.moe_vae import (\n",
    "    load_real_data,\n",
    "    load_real_test,\n",
    "    calculate_metrics,\n",
    "    plot_results,\n",
    "    save_results_to_excel,\n",
    "    save_and_plot_results_from_excel,\n",
    "    preprocess_pace_data_minmax,\n",
    "    infer_and_visualize_single_model_minmax,\n",
    "    MoE_VAE,\n",
    "    train,\n",
    "    evaluate,\n",
    ")"
   ]
  },
  {
   "cell_type": "markdown",
   "id": "5",
   "metadata": {},
   "source": [
    "## Download data"
   ]
  },
  {
   "cell_type": "code",
   "execution_count": null,
   "id": "6",
   "metadata": {},
   "outputs": [],
   "source": [
    "url = \"https://github.com/opengeos/datasets/releases/download/hypercoast/pace_moe_data.zip\""
   ]
  },
  {
   "cell_type": "code",
   "execution_count": null,
   "id": "7",
   "metadata": {},
   "outputs": [],
   "source": [
    "download_file(url, quiet=False)"
   ]
  },
  {
   "cell_type": "markdown",
   "id": "8",
   "metadata": {},
   "source": [
    "## Set data paths"
   ]
  },
  {
   "cell_type": "code",
   "execution_count": null,
   "id": "9",
   "metadata": {},
   "outputs": [],
   "source": [
    "nc_path = \"./data/PACE_OCI.20240929T185124.L2.OC_AOP.V3_0.nc\"\n",
    "pace_rgb_path = \"./data/snapshot-2024-08-10T00_00_00Z.tif\"\n",
    "wavelength_filepath = \"./data/pace_wavelengths.csv\"\n",
    "# === Dataset paths ===\n",
    "excel_path_train = \"./data/Gloria_updated_07242025.xlsx\"\n",
    "test_files = [\n",
    "    \"./data/GreatLake_all_data.xlsx\",\n",
    "    \"./data/GOA_insitu_data_07242025updated.xlsx\",\n",
    "    \"./data/satellite_for_PACE.xlsx\",\n",
    "    \"./data/satellite_for_PACE_LE.xlsx\",\n",
    "]\n",
    "base_save_dir = \"./test\""
   ]
  },
  {
   "cell_type": "markdown",
   "id": "10",
   "metadata": {},
   "source": [
    "## Set PACE wavelengths"
   ]
  },
  {
   "cell_type": "code",
   "execution_count": null,
   "id": "11",
   "metadata": {},
   "outputs": [],
   "source": [
    "wv_PACE = pd.read_csv(wavelength_filepath)[\"wavelength\"].tolist()\n",
    "# wv_PACE"
   ]
  },
  {
   "cell_type": "code",
   "execution_count": null,
   "id": "12",
   "metadata": {},
   "outputs": [],
   "source": [
    "selected_bands = wv_PACE"
   ]
  },
  {
   "cell_type": "markdown",
   "id": "13",
   "metadata": {},
   "source": [
    "## Read data"
   ]
  },
  {
   "cell_type": "code",
   "execution_count": null,
   "id": "14",
   "metadata": {},
   "outputs": [],
   "source": [
    "with rasterio.open(pace_rgb_path) as ds:\n",
    "    R, G, B = ds.read(1), ds.read(2), ds.read(3)\n",
    "    extent = [ds.bounds.left, ds.bounds.right, ds.bounds.bottom, ds.bounds.top]\n",
    "    rgb_image = np.stack((R, G, B), axis=-1)\n",
    "os.makedirs(base_save_dir, exist_ok=True)"
   ]
  },
  {
   "cell_type": "markdown",
   "id": "15",
   "metadata": {},
   "source": [
    "## Load training data"
   ]
  },
  {
   "cell_type": "code",
   "execution_count": null,
   "id": "16",
   "metadata": {},
   "outputs": [],
   "source": [
    "device = torch.device(\"cuda:0\" if torch.cuda.is_available() else \"cpu\")\n",
    "print(f\"Using device: {device}\")"
   ]
  },
  {
   "cell_type": "code",
   "execution_count": null,
   "id": "17",
   "metadata": {},
   "outputs": [],
   "source": [
    "train_real_dl, test_real_dl, input_dim, output_dim, train_ids, test_ids = (\n",
    "    load_real_data(\n",
    "        excel_path=excel_path_train,\n",
    "        selected_bands=selected_bands,\n",
    "        seed=42,\n",
    "        diff_before_norm=False,\n",
    "        diff_after_norm=False,\n",
    "        target_parameter=\"chl-a\",\n",
    "        lower_quantile=0,\n",
    "        upper_quantile=1,\n",
    "        log_offset=1,\n",
    "    )\n",
    ")"
   ]
  },
  {
   "cell_type": "markdown",
   "id": "18",
   "metadata": {},
   "source": [
    "## Load test data"
   ]
  },
  {
   "cell_type": "code",
   "execution_count": null,
   "id": "19",
   "metadata": {},
   "outputs": [],
   "source": [
    "test_dls, test_ids_list, test_dates_list = [], [], []\n",
    "for file in test_files:\n",
    "    dl, _, _, ids, dates = load_real_test(\n",
    "        excel_path=file,\n",
    "        selected_bands=selected_bands,\n",
    "        diff_before_norm=False,\n",
    "        diff_after_norm=False,\n",
    "        max_allowed_diff=1.0,\n",
    "        target_parameter=\"chl-a\",\n",
    "        log_offset=1,\n",
    "    )\n",
    "    test_dls.append(dl)\n",
    "    test_ids_list.append(ids)\n",
    "    test_dates_list.append(dates)"
   ]
  },
  {
   "cell_type": "markdown",
   "id": "20",
   "metadata": {},
   "source": [
    "## Load PACE data"
   ]
  },
  {
   "cell_type": "code",
   "execution_count": null,
   "id": "21",
   "metadata": {},
   "outputs": [],
   "source": [
    "test_loader, Rrs, mask, latitude, longitude = preprocess_pace_data_minmax(\n",
    "    nc_path=nc_path,\n",
    "    diff_before_norm=False,\n",
    "    diff_after_norm=False,\n",
    "    full_band_wavelengths=np.array(selected_bands),\n",
    ")"
   ]
  },
  {
   "cell_type": "markdown",
   "id": "22",
   "metadata": {},
   "source": [
    "## Initialize model"
   ]
  },
  {
   "cell_type": "code",
   "execution_count": null,
   "id": "23",
   "metadata": {},
   "outputs": [],
   "source": [
    "model = MoE_VAE(\n",
    "    input_dim=input_dim,\n",
    "    output_dim=output_dim,\n",
    "    latent_dim=32,\n",
    "    encoder_hidden_dims=[64, 64],\n",
    "    decoder_hidden_dims=[64, 64],\n",
    "    activation=\"leakyrelu\",\n",
    "    use_norm=\"layer\",\n",
    "    use_dropout=False,\n",
    "    use_softplus_output=True,\n",
    "    num_experts=4,\n",
    "    k=2,\n",
    "    noisy_gating=True,\n",
    ").to(device)"
   ]
  },
  {
   "cell_type": "markdown",
   "id": "24",
   "metadata": {},
   "source": [
    "## Model training"
   ]
  },
  {
   "cell_type": "code",
   "execution_count": null,
   "id": "25",
   "metadata": {},
   "outputs": [],
   "source": [
    "optimizer = torch.optim.Adam(model.parameters(), lr=1e-3)\n",
    "train_log = train(\n",
    "    model,\n",
    "    train_real_dl,\n",
    "    device,\n",
    "    epochs=400,\n",
    "    optimizer=optimizer,\n",
    "    save_dir=base_save_dir,\n",
    ")\n",
    "best_train_loss = train_log[\"best_loss\"]"
   ]
  },
  {
   "cell_type": "markdown",
   "id": "26",
   "metadata": {},
   "source": [
    "## Model evaluation"
   ]
  },
  {
   "cell_type": "code",
   "execution_count": null,
   "id": "27",
   "metadata": {},
   "outputs": [],
   "source": [
    "predictions, actuals = evaluate(model, test_real_dl, device, log_offset=1)\n",
    "epsilon, beta, rmse, rmsle, mape, bias, mae = calculate_metrics(predictions, actuals)\n",
    "test_loss = mae\n",
    "\n",
    "save_results_to_excel(\n",
    "    test_ids, actuals, predictions, os.path.join(base_save_dir, \"test_results.xlsx\")\n",
    ")\n",
    "plot_results(predictions, actuals, base_save_dir, mode=\"test_results\")\n",
    "\n",
    "for dl, ids, dates, path in zip(test_dls, test_ids_list, test_dates_list, test_files):\n",
    "    preds, acts = evaluate(model, dl, device, log_offset=1)\n",
    "    save_and_plot_results_from_excel(preds, acts, ids, dates, path, base_save_dir)"
   ]
  },
  {
   "cell_type": "markdown",
   "id": "28",
   "metadata": {},
   "source": [
    "## Model inference"
   ]
  },
  {
   "cell_type": "code",
   "execution_count": null,
   "id": "29",
   "metadata": {},
   "outputs": [],
   "source": [
    "infer_and_visualize_single_model_minmax(\n",
    "    model=model,\n",
    "    test_loader=test_loader,\n",
    "    Rrs=Rrs,\n",
    "    mask=mask,\n",
    "    latitude=latitude,\n",
    "    longitude=longitude,\n",
    "    save_folder=base_save_dir,\n",
    "    extent=extent,\n",
    "    rgb_image=rgb_image,\n",
    "    structure_name=\"09292024\",\n",
    "    run=1,\n",
    "    vmin=0,\n",
    "    vmax=30,\n",
    "    log_offset=1,\n",
    ")\n",
    "\n",
    "print(\n",
    "    f\"✅ Finished training, train loss: {best_train_loss:.4f}, test loss: {test_loss:.4f}\"\n",
    ")"
   ]
  }
 ],
 "metadata": {
  "kernelspec": {
   "display_name": "geo",
   "language": "python",
   "name": "python3"
  },
  "language_info": {
   "codemirror_mode": {
    "name": "ipython",
    "version": 3
   },
   "file_extension": ".py",
   "mimetype": "text/x-python",
   "name": "python",
   "nbconvert_exporter": "python",
   "pygments_lexer": "ipython3",
   "version": "3.12.2"
  }
 },
 "nbformat": 4,
 "nbformat_minor": 5
}
