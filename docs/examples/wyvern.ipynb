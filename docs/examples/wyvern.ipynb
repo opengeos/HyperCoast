{
 "cells": [
  {
   "cell_type": "markdown",
   "metadata": {},
   "source": [
    "[![image](https://colab.research.google.com/assets/colab-badge.svg)](https://colab.research.google.com/github/opengeos/HyperCoast/blob/main/docs/examples/wyvern.ipynb)\n",
    "\n",
    "# Visualizing Wyvern data interactively with HyperCoast\n",
    "\n",
    "This notebook demonstrates how to visualize [Wyvern](https://opendata.wyvern.space/) hyperspectral data interactively with HyperCoast."
   ]
  },
  {
   "cell_type": "code",
   "execution_count": null,
   "metadata": {},
   "outputs": [],
   "source": [
    "# %pip install \"hypercoast[extra]\""
   ]
  },
  {
   "cell_type": "code",
   "execution_count": null,
   "metadata": {},
   "outputs": [],
   "source": [
    "import hypercoast"
   ]
  },
  {
   "cell_type": "markdown",
   "metadata": {},
   "source": [
    "Download a sample Wyvern dataset. It is a subset of the [full dataset](https://opendata.wyvern.space/#/industry/coastal/wyvern_dragonette-001_20240608T144036_fa4c4f71/wyvern_dragonette-001_20240608T144036_fa4c4f71.json?.language=en&.asset=asset-cloud-optimized-geotiff). "
   ]
  },
  {
   "cell_type": "code",
   "execution_count": null,
   "metadata": {},
   "outputs": [],
   "source": [
    "url = \"https://github.com/opengeos/datasets/releases/download/hypercoast/wyvern_dragonette-001_20240608T144036_fa4c4f71.tif\"\n",
    "filepath = \"data/wyvern.tif\"\n",
    "hypercoast.download_file(url, filepath)"
   ]
  },
  {
   "cell_type": "markdown",
   "metadata": {},
   "source": [
    "Load the dataset as a xarray.Dataset object."
   ]
  },
  {
   "cell_type": "code",
   "execution_count": null,
   "metadata": {},
   "outputs": [],
   "source": [
    "dataset = hypercoast.read_wyvern(filepath)\n",
    "dataset"
   ]
  },
  {
   "cell_type": "code",
   "execution_count": null,
   "metadata": {},
   "outputs": [],
   "source": [
    "dataset.sel(wavelength=780, method=\"nearest\")"
   ]
  },
  {
   "cell_type": "markdown",
   "metadata": {},
   "source": [
    "Plot the spectral signature of a pixel."
   ]
  },
  {
   "cell_type": "code",
   "execution_count": null,
   "metadata": {},
   "outputs": [],
   "source": [
    "hypercoast.filter_wyvern(dataset, lat=40.72, lon=-73.95, return_plot=True)"
   ]
  },
  {
   "cell_type": "markdown",
   "metadata": {},
   "source": [
    "Visualize a single band of the hyperspectral image."
   ]
  },
  {
   "cell_type": "code",
   "execution_count": null,
   "metadata": {},
   "outputs": [],
   "source": [
    "m = hypercoast.Map()\n",
    "m.add_basemap(\"Hybrid\")\n",
    "m.add_wyvern(\n",
    "    dataset,\n",
    "    wavelengths=[799],\n",
    "    indexes=[1],\n",
    "    vmin=0,\n",
    "    vmax=100,\n",
    "    colormap=\"jet\",\n",
    "    nodata=-9999,\n",
    ")\n",
    "m.add_colormap(cmap=\"jet\", vmin=0, vmax=100, label=\"Reflectance\")\n",
    "m"
   ]
  },
  {
   "cell_type": "markdown",
   "metadata": {},
   "source": [
    "Plot the spectral signature of a pixel interactively."
   ]
  },
  {
   "cell_type": "code",
   "execution_count": null,
   "metadata": {},
   "outputs": [],
   "source": [
    "m = hypercoast.Map()\n",
    "m.add_basemap(\"Hybrid\")\n",
    "m.add_wyvern(filepath, wavelengths=[799, 679, 570], vmin=0, vmax=100, nodata=-9999)\n",
    "m.add(\"spectral\")\n",
    "m"
   ]
  },
  {
   "cell_type": "markdown",
   "metadata": {},
   "source": [
    "![](https://github.com/user-attachments/assets/bb069010-1a67-4a4e-902e-4a1ce41442b5)"
   ]
  }
 ],
 "metadata": {
  "kernelspec": {
   "display_name": "geo",
   "language": "python",
   "name": "python3"
  },
  "language_info": {
   "codemirror_mode": {
    "name": "ipython",
    "version": 3
   },
   "file_extension": ".py",
   "mimetype": "text/x-python",
   "name": "python",
   "nbconvert_exporter": "python",
   "pygments_lexer": "ipython3",
   "version": "3.12.2"
  }
 },
 "nbformat": 4,
 "nbformat_minor": 4
}
