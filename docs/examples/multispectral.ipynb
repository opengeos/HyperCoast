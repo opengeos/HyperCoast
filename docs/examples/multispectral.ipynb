{
 "cells": [
  {
   "cell_type": "markdown",
   "metadata": {},
   "source": [
    "[![image](https://colab.research.google.com/assets/colab-badge.svg)](https://colab.research.google.com/github/opengeos/HyperCoast/blob/main/docs/examples/multispectral.ipynb)\n",
    "\n",
    "# Visualizing Multispectral Data with HyperCoast"
   ]
  },
  {
   "cell_type": "code",
   "execution_count": 5,
   "metadata": {},
   "outputs": [
    {
     "name": "stdout",
     "output_type": "stream",
     "text": [
      "Requirement already satisfied: hypercoast[extra] in c:\\users\\c00553090\\appdata\\local\\miniconda3\\envs\\hyper\\lib\\site-packages (0.7.0)\n",
      "Requirement already satisfied: dask in c:\\users\\c00553090\\appdata\\local\\miniconda3\\envs\\hyper\\lib\\site-packages (from hypercoast[extra]) (2024.7.0)\n",
      "Requirement already satisfied: geopandas in c:\\users\\c00553090\\appdata\\local\\miniconda3\\envs\\hyper\\lib\\site-packages (from hypercoast[extra]) (0.14.4)\n",
      "Requirement already satisfied: h5netcdf in c:\\users\\c00553090\\appdata\\local\\miniconda3\\envs\\hyper\\lib\\site-packages (from hypercoast[extra]) (1.3.0)\n",
      "Requirement already satisfied: hvplot in c:\\users\\c00553090\\appdata\\local\\miniconda3\\envs\\hyper\\lib\\site-packages (from hypercoast[extra]) (0.10.0)\n",
      "Requirement already satisfied: leafmap in c:\\users\\c00553090\\appdata\\local\\miniconda3\\envs\\hyper\\lib\\site-packages (from hypercoast[extra]) (0.35.9)\n",
      "Requirement already satisfied: localtileserver in c:\\users\\c00553090\\appdata\\local\\miniconda3\\envs\\hyper\\lib\\site-packages (from hypercoast[extra]) (0.10.3)\n",
      "Requirement already satisfied: mapclassify in c:\\users\\c00553090\\appdata\\local\\miniconda3\\envs\\hyper\\lib\\site-packages (from hypercoast[extra]) (2.6.1)\n",
      "Requirement already satisfied: netcdf4 in c:\\users\\c00553090\\appdata\\local\\miniconda3\\envs\\hyper\\lib\\site-packages (from hypercoast[extra]) (1.6.5)\n",
      "Requirement already satisfied: numpy<2.0.0 in c:\\users\\c00553090\\appdata\\local\\miniconda3\\envs\\hyper\\lib\\site-packages (from hypercoast[extra]) (1.26.4)\n",
      "Requirement already satisfied: rioxarray in c:\\users\\c00553090\\appdata\\local\\miniconda3\\envs\\hyper\\lib\\site-packages (from hypercoast[extra]) (0.15.5)\n",
      "Requirement already satisfied: s3fs in c:\\users\\c00553090\\appdata\\local\\miniconda3\\envs\\hyper\\lib\\site-packages (from hypercoast[extra]) (2024.3.1)\n",
      "Requirement already satisfied: scipy in c:\\users\\c00553090\\appdata\\local\\miniconda3\\envs\\hyper\\lib\\site-packages (from hypercoast[extra]) (1.13.0)\n",
      "Requirement already satisfied: xarray in c:\\users\\c00553090\\appdata\\local\\miniconda3\\envs\\hyper\\lib\\site-packages (from hypercoast[extra]) (2024.3.0)\n",
      "Requirement already satisfied: cartopy in c:\\users\\c00553090\\appdata\\local\\miniconda3\\envs\\hyper\\lib\\site-packages (from hypercoast[extra]) (0.23.0)\n",
      "Requirement already satisfied: earthaccess in c:\\users\\c00553090\\appdata\\local\\miniconda3\\envs\\hyper\\lib\\site-packages (from hypercoast[extra]) (0.9.0)\n",
      "Requirement already satisfied: pyvista in c:\\users\\c00553090\\appdata\\local\\miniconda3\\envs\\hyper\\lib\\site-packages (from hypercoast[extra]) (0.44.0)\n",
      "Requirement already satisfied: matplotlib>=3.5 in c:\\users\\c00553090\\appdata\\local\\miniconda3\\envs\\hyper\\lib\\site-packages (from cartopy->hypercoast[extra]) (3.8.4)\n",
      "Requirement already satisfied: shapely>=1.7 in c:\\users\\c00553090\\appdata\\local\\miniconda3\\envs\\hyper\\lib\\site-packages (from cartopy->hypercoast[extra]) (2.0.4)\n",
      "Requirement already satisfied: packaging>=20 in c:\\users\\c00553090\\appdata\\local\\miniconda3\\envs\\hyper\\lib\\site-packages (from cartopy->hypercoast[extra]) (24.0)\n",
      "Requirement already satisfied: pyshp>=2.3 in c:\\users\\c00553090\\appdata\\local\\miniconda3\\envs\\hyper\\lib\\site-packages (from cartopy->hypercoast[extra]) (2.3.1)\n",
      "Requirement already satisfied: pyproj>=3.3.1 in c:\\users\\c00553090\\appdata\\local\\miniconda3\\envs\\hyper\\lib\\site-packages (from cartopy->hypercoast[extra]) (3.6.1)\n",
      "Requirement already satisfied: click>=8.1 in c:\\users\\c00553090\\appdata\\local\\miniconda3\\envs\\hyper\\lib\\site-packages (from dask->hypercoast[extra]) (8.1.7)\n",
      "Requirement already satisfied: cloudpickle>=1.5.0 in c:\\users\\c00553090\\appdata\\local\\miniconda3\\envs\\hyper\\lib\\site-packages (from dask->hypercoast[extra]) (3.0.0)\n",
      "Requirement already satisfied: fsspec>=2021.09.0 in c:\\users\\c00553090\\appdata\\local\\miniconda3\\envs\\hyper\\lib\\site-packages (from dask->hypercoast[extra]) (2024.3.1)\n",
      "Requirement already satisfied: partd>=1.4.0 in c:\\users\\c00553090\\appdata\\local\\miniconda3\\envs\\hyper\\lib\\site-packages (from dask->hypercoast[extra]) (1.4.2)\n",
      "Requirement already satisfied: pyyaml>=5.3.1 in c:\\users\\c00553090\\appdata\\local\\miniconda3\\envs\\hyper\\lib\\site-packages (from dask->hypercoast[extra]) (6.0.1)\n",
      "Requirement already satisfied: toolz>=0.10.0 in c:\\users\\c00553090\\appdata\\local\\miniconda3\\envs\\hyper\\lib\\site-packages (from dask->hypercoast[extra]) (0.12.1)\n",
      "Requirement already satisfied: importlib-metadata>=4.13.0 in c:\\users\\c00553090\\appdata\\local\\miniconda3\\envs\\hyper\\lib\\site-packages (from dask->hypercoast[extra]) (7.1.0)\n",
      "Requirement already satisfied: multimethod>=1.8 in c:\\users\\c00553090\\appdata\\local\\miniconda3\\envs\\hyper\\lib\\site-packages (from earthaccess->hypercoast[extra]) (1.11)\n",
      "Requirement already satisfied: pqdm>=0.1 in c:\\users\\c00553090\\appdata\\local\\miniconda3\\envs\\hyper\\lib\\site-packages (from earthaccess->hypercoast[extra]) (0.2.0)\n",
      "Requirement already satisfied: python-cmr>=0.9.0 in c:\\users\\c00553090\\appdata\\local\\miniconda3\\envs\\hyper\\lib\\site-packages (from earthaccess->hypercoast[extra]) (0.11.0)\n",
      "Requirement already satisfied: python-dateutil>=2.8.2 in c:\\users\\c00553090\\appdata\\local\\miniconda3\\envs\\hyper\\lib\\site-packages (from earthaccess->hypercoast[extra]) (2.9.0)\n",
      "Requirement already satisfied: requests>=2.26 in c:\\users\\c00553090\\appdata\\local\\miniconda3\\envs\\hyper\\lib\\site-packages (from earthaccess->hypercoast[extra]) (2.31.0)\n",
      "Requirement already satisfied: tinynetrc<2.0.0,>=1.3.1 in c:\\users\\c00553090\\appdata\\local\\miniconda3\\envs\\hyper\\lib\\site-packages (from earthaccess->hypercoast[extra]) (1.3.1)\n",
      "Requirement already satisfied: aiobotocore<3.0.0,>=2.5.4 in c:\\users\\c00553090\\appdata\\local\\miniconda3\\envs\\hyper\\lib\\site-packages (from s3fs->hypercoast[extra]) (2.12.2)\n",
      "Requirement already satisfied: aiohttp!=4.0.0a0,!=4.0.0a1 in c:\\users\\c00553090\\appdata\\local\\miniconda3\\envs\\hyper\\lib\\site-packages (from s3fs->hypercoast[extra]) (3.9.5)\n",
      "Requirement already satisfied: fiona>=1.8.21 in c:\\users\\c00553090\\appdata\\local\\miniconda3\\envs\\hyper\\lib\\site-packages (from geopandas->hypercoast[extra]) (1.9.6)\n",
      "Requirement already satisfied: pandas>=1.4.0 in c:\\users\\c00553090\\appdata\\local\\miniconda3\\envs\\hyper\\lib\\site-packages (from geopandas->hypercoast[extra]) (2.2.2)\n",
      "Requirement already satisfied: h5py in c:\\users\\c00553090\\appdata\\local\\miniconda3\\envs\\hyper\\lib\\site-packages (from h5netcdf->hypercoast[extra]) (3.11.0)\n",
      "Requirement already satisfied: bokeh>=1.0.0 in c:\\users\\c00553090\\appdata\\local\\miniconda3\\envs\\hyper\\lib\\site-packages (from hvplot->hypercoast[extra]) (3.4.1)\n",
      "Requirement already satisfied: colorcet>=2 in c:\\users\\c00553090\\appdata\\local\\miniconda3\\envs\\hyper\\lib\\site-packages (from hvplot->hypercoast[extra]) (3.1.0)\n",
      "Requirement already satisfied: holoviews>=1.11.0 in c:\\users\\c00553090\\appdata\\local\\miniconda3\\envs\\hyper\\lib\\site-packages (from hvplot->hypercoast[extra]) (1.18.3)\n",
      "Requirement already satisfied: panel>=0.11.0 in c:\\users\\c00553090\\appdata\\local\\miniconda3\\envs\\hyper\\lib\\site-packages (from hvplot->hypercoast[extra]) (1.4.2)\n",
      "Requirement already satisfied: param<3.0,>=1.12.0 in c:\\users\\c00553090\\appdata\\local\\miniconda3\\envs\\hyper\\lib\\site-packages (from hvplot->hypercoast[extra]) (2.1.0)\n",
      "Requirement already satisfied: bqplot in c:\\users\\c00553090\\appdata\\local\\miniconda3\\envs\\hyper\\lib\\site-packages (from leafmap->hypercoast[extra]) (0.12.43)\n",
      "Requirement already satisfied: colour in c:\\users\\c00553090\\appdata\\local\\miniconda3\\envs\\hyper\\lib\\site-packages (from leafmap->hypercoast[extra]) (0.1.5)\n",
      "Requirement already satisfied: duckdb in c:\\users\\c00553090\\appdata\\local\\miniconda3\\envs\\hyper\\lib\\site-packages (from leafmap->hypercoast[extra]) (0.10.2)\n",
      "Requirement already satisfied: folium in c:\\users\\c00553090\\appdata\\local\\miniconda3\\envs\\hyper\\lib\\site-packages (from leafmap->hypercoast[extra]) (0.16.0)\n",
      "Requirement already satisfied: gdown in c:\\users\\c00553090\\appdata\\local\\miniconda3\\envs\\hyper\\lib\\site-packages (from leafmap->hypercoast[extra]) (5.1.0)\n",
      "Requirement already satisfied: geojson in c:\\users\\c00553090\\appdata\\local\\miniconda3\\envs\\hyper\\lib\\site-packages (from leafmap->hypercoast[extra]) (3.1.0)\n",
      "Requirement already satisfied: ipyevents in c:\\users\\c00553090\\appdata\\local\\miniconda3\\envs\\hyper\\lib\\site-packages (from leafmap->hypercoast[extra]) (2.0.2)\n",
      "Requirement already satisfied: ipyfilechooser in c:\\users\\c00553090\\appdata\\local\\miniconda3\\envs\\hyper\\lib\\site-packages (from leafmap->hypercoast[extra]) (0.6.0)\n",
      "Requirement already satisfied: ipyleaflet in c:\\users\\c00553090\\appdata\\local\\miniconda3\\envs\\hyper\\lib\\site-packages (from leafmap->hypercoast[extra]) (0.19.0)\n",
      "Requirement already satisfied: ipyvuetify in c:\\users\\c00553090\\appdata\\local\\miniconda3\\envs\\hyper\\lib\\site-packages (from leafmap->hypercoast[extra]) (1.9.4)\n",
      "Requirement already satisfied: ipywidgets in c:\\users\\c00553090\\appdata\\local\\miniconda3\\envs\\hyper\\lib\\site-packages (from leafmap->hypercoast[extra]) (8.1.2)\n",
      "Requirement already satisfied: plotly in c:\\users\\c00553090\\appdata\\local\\miniconda3\\envs\\hyper\\lib\\site-packages (from leafmap->hypercoast[extra]) (5.22.0)\n",
      "Requirement already satisfied: pystac-client in c:\\users\\c00553090\\appdata\\local\\miniconda3\\envs\\hyper\\lib\\site-packages (from leafmap->hypercoast[extra]) (0.7.7)\n",
      "Requirement already satisfied: python-box in c:\\users\\c00553090\\appdata\\local\\miniconda3\\envs\\hyper\\lib\\site-packages (from leafmap->hypercoast[extra]) (7.1.1)\n",
      "Requirement already satisfied: scooby in c:\\users\\c00553090\\appdata\\local\\miniconda3\\envs\\hyper\\lib\\site-packages (from leafmap->hypercoast[extra]) (0.10.0)\n",
      "Requirement already satisfied: whiteboxgui in c:\\users\\c00553090\\appdata\\local\\miniconda3\\envs\\hyper\\lib\\site-packages (from leafmap->hypercoast[extra]) (2.3.0)\n",
      "Requirement already satisfied: xyzservices in c:\\users\\c00553090\\appdata\\local\\miniconda3\\envs\\hyper\\lib\\site-packages (from leafmap->hypercoast[extra]) (2024.4.0)\n",
      "Requirement already satisfied: flask<4,>=2.0.0 in c:\\users\\c00553090\\appdata\\local\\miniconda3\\envs\\hyper\\lib\\site-packages (from localtileserver->hypercoast[extra]) (2.3.3)\n",
      "Requirement already satisfied: Flask-Caching in c:\\users\\c00553090\\appdata\\local\\miniconda3\\envs\\hyper\\lib\\site-packages (from localtileserver->hypercoast[extra]) (2.1.0)\n",
      "Requirement already satisfied: flask-cors in c:\\users\\c00553090\\appdata\\local\\miniconda3\\envs\\hyper\\lib\\site-packages (from localtileserver->hypercoast[extra]) (4.0.0)\n",
      "Requirement already satisfied: flask-restx>=0.5.0 in c:\\users\\c00553090\\appdata\\local\\miniconda3\\envs\\hyper\\lib\\site-packages (from localtileserver->hypercoast[extra]) (1.1.0)\n",
      "Requirement already satisfied: rio-tiler in c:\\users\\c00553090\\appdata\\local\\miniconda3\\envs\\hyper\\lib\\site-packages (from localtileserver->hypercoast[extra]) (6.6.1)\n",
      "Requirement already satisfied: rio-cogeo in c:\\users\\c00553090\\appdata\\local\\miniconda3\\envs\\hyper\\lib\\site-packages (from localtileserver->hypercoast[extra]) (5.3.0)\n",
      "Requirement already satisfied: server-thread in c:\\users\\c00553090\\appdata\\local\\miniconda3\\envs\\hyper\\lib\\site-packages (from localtileserver->hypercoast[extra]) (0.2.0)\n",
      "Requirement already satisfied: werkzeug in c:\\users\\c00553090\\appdata\\local\\miniconda3\\envs\\hyper\\lib\\site-packages (from localtileserver->hypercoast[extra]) (3.0.3)\n",
      "Requirement already satisfied: networkx>=2.7 in c:\\users\\c00553090\\appdata\\local\\miniconda3\\envs\\hyper\\lib\\site-packages (from mapclassify->hypercoast[extra]) (3.3)\n",
      "Requirement already satisfied: scikit-learn>=1.0 in c:\\users\\c00553090\\appdata\\local\\miniconda3\\envs\\hyper\\lib\\site-packages (from mapclassify->hypercoast[extra]) (1.4.2)\n",
      "Requirement already satisfied: cftime in c:\\users\\c00553090\\appdata\\local\\miniconda3\\envs\\hyper\\lib\\site-packages (from netcdf4->hypercoast[extra]) (1.6.3)\n",
      "Requirement already satisfied: certifi in c:\\users\\c00553090\\appdata\\local\\miniconda3\\envs\\hyper\\lib\\site-packages (from netcdf4->hypercoast[extra]) (2024.7.4)\n",
      "Requirement already satisfied: pillow in c:\\users\\c00553090\\appdata\\local\\miniconda3\\envs\\hyper\\lib\\site-packages (from pyvista->hypercoast[extra]) (10.3.0)\n",
      "Requirement already satisfied: pooch in c:\\users\\c00553090\\appdata\\local\\miniconda3\\envs\\hyper\\lib\\site-packages (from pyvista->hypercoast[extra]) (1.8.2)\n",
      "Requirement already satisfied: vtk in c:\\users\\c00553090\\appdata\\local\\miniconda3\\envs\\hyper\\lib\\site-packages (from pyvista->hypercoast[extra]) (9.3.1)\n",
      "Requirement already satisfied: typing-extensions in c:\\users\\c00553090\\appdata\\local\\miniconda3\\envs\\hyper\\lib\\site-packages (from pyvista->hypercoast[extra]) (4.11.0)\n",
      "Requirement already satisfied: rasterio>=1.3 in c:\\users\\c00553090\\appdata\\local\\miniconda3\\envs\\hyper\\lib\\site-packages (from rioxarray->hypercoast[extra]) (1.3.10)\n",
      "Requirement already satisfied: botocore<1.34.52,>=1.34.41 in c:\\users\\c00553090\\appdata\\local\\miniconda3\\envs\\hyper\\lib\\site-packages (from aiobotocore<3.0.0,>=2.5.4->s3fs->hypercoast[extra]) (1.34.51)\n",
      "Requirement already satisfied: wrapt<2.0.0,>=1.10.10 in c:\\users\\c00553090\\appdata\\local\\miniconda3\\envs\\hyper\\lib\\site-packages (from aiobotocore<3.0.0,>=2.5.4->s3fs->hypercoast[extra]) (1.16.0)\n",
      "Requirement already satisfied: aioitertools<1.0.0,>=0.5.1 in c:\\users\\c00553090\\appdata\\local\\miniconda3\\envs\\hyper\\lib\\site-packages (from aiobotocore<3.0.0,>=2.5.4->s3fs->hypercoast[extra]) (0.11.0)\n",
      "Requirement already satisfied: aiosignal>=1.1.2 in c:\\users\\c00553090\\appdata\\local\\miniconda3\\envs\\hyper\\lib\\site-packages (from aiohttp!=4.0.0a0,!=4.0.0a1->s3fs->hypercoast[extra]) (1.3.1)\n",
      "Requirement already satisfied: attrs>=17.3.0 in c:\\users\\c00553090\\appdata\\local\\miniconda3\\envs\\hyper\\lib\\site-packages (from aiohttp!=4.0.0a0,!=4.0.0a1->s3fs->hypercoast[extra]) (23.2.0)\n",
      "Requirement already satisfied: frozenlist>=1.1.1 in c:\\users\\c00553090\\appdata\\local\\miniconda3\\envs\\hyper\\lib\\site-packages (from aiohttp!=4.0.0a0,!=4.0.0a1->s3fs->hypercoast[extra]) (1.4.1)\n",
      "Requirement already satisfied: multidict<7.0,>=4.5 in c:\\users\\c00553090\\appdata\\local\\miniconda3\\envs\\hyper\\lib\\site-packages (from aiohttp!=4.0.0a0,!=4.0.0a1->s3fs->hypercoast[extra]) (6.0.5)\n",
      "Requirement already satisfied: yarl<2.0,>=1.0 in c:\\users\\c00553090\\appdata\\local\\miniconda3\\envs\\hyper\\lib\\site-packages (from aiohttp!=4.0.0a0,!=4.0.0a1->s3fs->hypercoast[extra]) (1.9.4)\n",
      "Requirement already satisfied: Jinja2>=2.9 in c:\\users\\c00553090\\appdata\\local\\miniconda3\\envs\\hyper\\lib\\site-packages (from bokeh>=1.0.0->hvplot->hypercoast[extra]) (3.1.4)\n",
      "Requirement already satisfied: contourpy>=1.2 in c:\\users\\c00553090\\appdata\\local\\miniconda3\\envs\\hyper\\lib\\site-packages (from bokeh>=1.0.0->hvplot->hypercoast[extra]) (1.2.1)\n",
      "Requirement already satisfied: tornado>=6.2 in c:\\users\\c00553090\\appdata\\local\\miniconda3\\envs\\hyper\\lib\\site-packages (from bokeh>=1.0.0->hvplot->hypercoast[extra]) (6.4)\n",
      "Requirement already satisfied: colorama in c:\\users\\c00553090\\appdata\\local\\miniconda3\\envs\\hyper\\lib\\site-packages (from click>=8.1->dask->hypercoast[extra]) (0.4.6)\n",
      "Requirement already satisfied: click-plugins>=1.0 in c:\\users\\c00553090\\appdata\\local\\miniconda3\\envs\\hyper\\lib\\site-packages (from fiona>=1.8.21->geopandas->hypercoast[extra]) (1.1.1)\n",
      "Requirement already satisfied: cligj>=0.5 in c:\\users\\c00553090\\appdata\\local\\miniconda3\\envs\\hyper\\lib\\site-packages (from fiona>=1.8.21->geopandas->hypercoast[extra]) (0.7.2)\n",
      "Requirement already satisfied: six in c:\\users\\c00553090\\appdata\\local\\miniconda3\\envs\\hyper\\lib\\site-packages (from fiona>=1.8.21->geopandas->hypercoast[extra]) (1.16.0)\n",
      "Requirement already satisfied: itsdangerous>=2.1.2 in c:\\users\\c00553090\\appdata\\local\\miniconda3\\envs\\hyper\\lib\\site-packages (from flask<4,>=2.0.0->localtileserver->hypercoast[extra]) (2.2.0)\n",
      "Requirement already satisfied: blinker>=1.6.2 in c:\\users\\c00553090\\appdata\\local\\miniconda3\\envs\\hyper\\lib\\site-packages (from flask<4,>=2.0.0->localtileserver->hypercoast[extra]) (1.8.2)\n",
      "Requirement already satisfied: aniso8601>=0.82 in c:\\users\\c00553090\\appdata\\local\\miniconda3\\envs\\hyper\\lib\\site-packages (from flask-restx>=0.5.0->localtileserver->hypercoast[extra]) (9.0.1)\n",
      "Requirement already satisfied: jsonschema in c:\\users\\c00553090\\appdata\\local\\miniconda3\\envs\\hyper\\lib\\site-packages (from flask-restx>=0.5.0->localtileserver->hypercoast[extra]) (4.22.0)\n",
      "Requirement already satisfied: pytz in c:\\users\\c00553090\\appdata\\local\\miniconda3\\envs\\hyper\\lib\\site-packages (from flask-restx>=0.5.0->localtileserver->hypercoast[extra]) (2024.1)\n",
      "Requirement already satisfied: pyviz-comms>=0.7.4 in c:\\users\\c00553090\\appdata\\local\\miniconda3\\envs\\hyper\\lib\\site-packages (from holoviews>=1.11.0->hvplot->hypercoast[extra]) (3.0.2)\n",
      "Requirement already satisfied: zipp>=0.5 in c:\\users\\c00553090\\appdata\\local\\miniconda3\\envs\\hyper\\lib\\site-packages (from importlib-metadata>=4.13.0->dask->hypercoast[extra]) (3.17.0)\n",
      "Requirement already satisfied: cycler>=0.10 in c:\\users\\c00553090\\appdata\\local\\miniconda3\\envs\\hyper\\lib\\site-packages (from matplotlib>=3.5->cartopy->hypercoast[extra]) (0.12.1)\n",
      "Requirement already satisfied: fonttools>=4.22.0 in c:\\users\\c00553090\\appdata\\local\\miniconda3\\envs\\hyper\\lib\\site-packages (from matplotlib>=3.5->cartopy->hypercoast[extra]) (4.51.0)\n",
      "Requirement already satisfied: kiwisolver>=1.3.1 in c:\\users\\c00553090\\appdata\\local\\miniconda3\\envs\\hyper\\lib\\site-packages (from matplotlib>=3.5->cartopy->hypercoast[extra]) (1.4.5)\n",
      "Requirement already satisfied: pyparsing>=2.3.1 in c:\\users\\c00553090\\appdata\\local\\miniconda3\\envs\\hyper\\lib\\site-packages (from matplotlib>=3.5->cartopy->hypercoast[extra]) (3.1.2)\n",
      "Requirement already satisfied: tzdata>=2022.7 in c:\\users\\c00553090\\appdata\\local\\miniconda3\\envs\\hyper\\lib\\site-packages (from pandas>=1.4.0->geopandas->hypercoast[extra]) (2024.1)\n",
      "Requirement already satisfied: markdown in c:\\users\\c00553090\\appdata\\local\\miniconda3\\envs\\hyper\\lib\\site-packages (from panel>=0.11.0->hvplot->hypercoast[extra]) (3.6)\n",
      "Requirement already satisfied: markdown-it-py in c:\\users\\c00553090\\appdata\\local\\miniconda3\\envs\\hyper\\lib\\site-packages (from panel>=0.11.0->hvplot->hypercoast[extra]) (3.0.0)\n",
      "Requirement already satisfied: linkify-it-py in c:\\users\\c00553090\\appdata\\local\\miniconda3\\envs\\hyper\\lib\\site-packages (from panel>=0.11.0->hvplot->hypercoast[extra]) (2.0.3)\n",
      "Requirement already satisfied: mdit-py-plugins in c:\\users\\c00553090\\appdata\\local\\miniconda3\\envs\\hyper\\lib\\site-packages (from panel>=0.11.0->hvplot->hypercoast[extra]) (0.4.0)\n",
      "Requirement already satisfied: tqdm>=4.48.0 in c:\\users\\c00553090\\appdata\\local\\miniconda3\\envs\\hyper\\lib\\site-packages (from panel>=0.11.0->hvplot->hypercoast[extra]) (4.66.4)\n",
      "Requirement already satisfied: bleach in c:\\users\\c00553090\\appdata\\local\\miniconda3\\envs\\hyper\\lib\\site-packages (from panel>=0.11.0->hvplot->hypercoast[extra]) (6.1.0)\n",
      "Requirement already satisfied: locket in c:\\users\\c00553090\\appdata\\local\\miniconda3\\envs\\hyper\\lib\\site-packages (from partd>=1.4.0->dask->hypercoast[extra]) (1.0.0)\n",
      "Requirement already satisfied: bounded-pool-executor in c:\\users\\c00553090\\appdata\\local\\miniconda3\\envs\\hyper\\lib\\site-packages (from pqdm>=0.1->earthaccess->hypercoast[extra]) (0.0.3)\n",
      "Requirement already satisfied: affine in c:\\users\\c00553090\\appdata\\local\\miniconda3\\envs\\hyper\\lib\\site-packages (from rasterio>=1.3->rioxarray->hypercoast[extra]) (2.4.0)\n",
      "Requirement already satisfied: snuggs>=1.4.1 in c:\\users\\c00553090\\appdata\\local\\miniconda3\\envs\\hyper\\lib\\site-packages (from rasterio>=1.3->rioxarray->hypercoast[extra]) (1.4.7)\n",
      "Requirement already satisfied: setuptools in c:\\users\\c00553090\\appdata\\local\\miniconda3\\envs\\hyper\\lib\\site-packages (from rasterio>=1.3->rioxarray->hypercoast[extra]) (69.5.1)\n",
      "Requirement already satisfied: charset-normalizer<4,>=2 in c:\\users\\c00553090\\appdata\\local\\miniconda3\\envs\\hyper\\lib\\site-packages (from requests>=2.26->earthaccess->hypercoast[extra]) (3.3.2)\n",
      "Requirement already satisfied: idna<4,>=2.5 in c:\\users\\c00553090\\appdata\\local\\miniconda3\\envs\\hyper\\lib\\site-packages (from requests>=2.26->earthaccess->hypercoast[extra]) (3.7)\n",
      "Requirement already satisfied: urllib3<3,>=1.21.1 in c:\\users\\c00553090\\appdata\\local\\miniconda3\\envs\\hyper\\lib\\site-packages (from requests>=2.26->earthaccess->hypercoast[extra]) (2.0.7)\n",
      "Requirement already satisfied: joblib>=1.2.0 in c:\\users\\c00553090\\appdata\\local\\miniconda3\\envs\\hyper\\lib\\site-packages (from scikit-learn>=1.0->mapclassify->hypercoast[extra]) (1.4.2)\n",
      "Requirement already satisfied: threadpoolctl>=2.0.0 in c:\\users\\c00553090\\appdata\\local\\miniconda3\\envs\\hyper\\lib\\site-packages (from scikit-learn>=1.0->mapclassify->hypercoast[extra]) (3.5.0)\n",
      "Requirement already satisfied: MarkupSafe>=2.1.1 in c:\\users\\c00553090\\appdata\\local\\miniconda3\\envs\\hyper\\lib\\site-packages (from werkzeug->localtileserver->hypercoast[extra]) (2.1.5)\n",
      "Requirement already satisfied: traitlets>=4.3.0 in c:\\users\\c00553090\\appdata\\local\\miniconda3\\envs\\hyper\\lib\\site-packages (from bqplot->leafmap->hypercoast[extra]) (5.14.3)\n",
      "Requirement already satisfied: traittypes>=0.0.6 in c:\\users\\c00553090\\appdata\\local\\miniconda3\\envs\\hyper\\lib\\site-packages (from bqplot->leafmap->hypercoast[extra]) (0.2.1)\n",
      "Requirement already satisfied: comm>=0.1.3 in c:\\users\\c00553090\\appdata\\local\\miniconda3\\envs\\hyper\\lib\\site-packages (from ipywidgets->leafmap->hypercoast[extra]) (0.2.2)\n",
      "Requirement already satisfied: ipython>=6.1.0 in c:\\users\\c00553090\\appdata\\local\\miniconda3\\envs\\hyper\\lib\\site-packages (from ipywidgets->leafmap->hypercoast[extra]) (8.24.0)\n",
      "Requirement already satisfied: widgetsnbextension~=4.0.10 in c:\\users\\c00553090\\appdata\\local\\miniconda3\\envs\\hyper\\lib\\site-packages (from ipywidgets->leafmap->hypercoast[extra]) (4.0.10)\n",
      "Requirement already satisfied: jupyterlab-widgets~=3.0.10 in c:\\users\\c00553090\\appdata\\local\\miniconda3\\envs\\hyper\\lib\\site-packages (from ipywidgets->leafmap->hypercoast[extra]) (3.0.10)\n",
      "Requirement already satisfied: cachelib<0.10.0,>=0.9.0 in c:\\users\\c00553090\\appdata\\local\\miniconda3\\envs\\hyper\\lib\\site-packages (from Flask-Caching->localtileserver->hypercoast[extra]) (0.9.0)\n",
      "Requirement already satisfied: branca>=0.6.0 in c:\\users\\c00553090\\appdata\\local\\miniconda3\\envs\\hyper\\lib\\site-packages (from folium->leafmap->hypercoast[extra]) (0.7.2)\n",
      "Requirement already satisfied: beautifulsoup4 in c:\\users\\c00553090\\appdata\\local\\miniconda3\\envs\\hyper\\lib\\site-packages (from gdown->leafmap->hypercoast[extra]) (4.12.3)\n",
      "Requirement already satisfied: filelock in c:\\users\\c00553090\\appdata\\local\\miniconda3\\envs\\hyper\\lib\\site-packages (from gdown->leafmap->hypercoast[extra]) (3.14.0)\n",
      "Requirement already satisfied: jupyter-leaflet<0.20,>=0.19 in c:\\users\\c00553090\\appdata\\local\\miniconda3\\envs\\hyper\\lib\\site-packages (from ipyleaflet->leafmap->hypercoast[extra]) (0.19.0)\n",
      "Requirement already satisfied: ipyvue<2,>=1.7 in c:\\users\\c00553090\\appdata\\local\\miniconda3\\envs\\hyper\\lib\\site-packages (from ipyvuetify->leafmap->hypercoast[extra]) (1.11.1)\n",
      "Requirement already satisfied: tenacity>=6.2.0 in c:\\users\\c00553090\\appdata\\local\\miniconda3\\envs\\hyper\\lib\\site-packages (from plotly->leafmap->hypercoast[extra]) (8.3.0)\n",
      "Requirement already satisfied: platformdirs>=2.5.0 in c:\\users\\c00553090\\appdata\\local\\miniconda3\\envs\\hyper\\lib\\site-packages (from pooch->pyvista->hypercoast[extra]) (4.2.1)\n",
      "Requirement already satisfied: pystac>=1.10.0 in c:\\users\\c00553090\\appdata\\local\\miniconda3\\envs\\hyper\\lib\\site-packages (from pystac[validation]>=1.10.0->pystac-client->leafmap->hypercoast[extra]) (1.10.1)\n",
      "Requirement already satisfied: morecantile<6.0,>=5.0 in c:\\users\\c00553090\\appdata\\local\\miniconda3\\envs\\hyper\\lib\\site-packages (from rio-cogeo->localtileserver->hypercoast[extra]) (5.3.0)\n",
      "Requirement already satisfied: pydantic~=2.0 in c:\\users\\c00553090\\appdata\\local\\miniconda3\\envs\\hyper\\lib\\site-packages (from rio-cogeo->localtileserver->hypercoast[extra]) (2.7.1)\n",
      "Requirement already satisfied: cachetools in c:\\users\\c00553090\\appdata\\local\\miniconda3\\envs\\hyper\\lib\\site-packages (from rio-tiler->localtileserver->hypercoast[extra]) (5.3.3)\n",
      "Requirement already satisfied: color-operations in c:\\users\\c00553090\\appdata\\local\\miniconda3\\envs\\hyper\\lib\\site-packages (from rio-tiler->localtileserver->hypercoast[extra]) (0.1.3)\n",
      "Requirement already satisfied: httpx in c:\\users\\c00553090\\appdata\\local\\miniconda3\\envs\\hyper\\lib\\site-packages (from rio-tiler->localtileserver->hypercoast[extra]) (0.27.0)\n",
      "Requirement already satisfied: numexpr in c:\\users\\c00553090\\appdata\\local\\miniconda3\\envs\\hyper\\lib\\site-packages (from rio-tiler->localtileserver->hypercoast[extra]) (2.10.0)\n",
      "Requirement already satisfied: uvicorn in c:\\users\\c00553090\\appdata\\local\\miniconda3\\envs\\hyper\\lib\\site-packages (from server-thread->localtileserver->hypercoast[extra]) (0.29.0)\n",
      "Requirement already satisfied: ipytree in c:\\users\\c00553090\\appdata\\local\\miniconda3\\envs\\hyper\\lib\\site-packages (from whiteboxgui->leafmap->hypercoast[extra]) (0.2.2)\n",
      "Requirement already satisfied: whitebox in c:\\users\\c00553090\\appdata\\local\\miniconda3\\envs\\hyper\\lib\\site-packages (from whiteboxgui->leafmap->hypercoast[extra]) (2.3.1)\n",
      "Requirement already satisfied: jmespath<2.0.0,>=0.7.1 in c:\\users\\c00553090\\appdata\\local\\miniconda3\\envs\\hyper\\lib\\site-packages (from botocore<1.34.52,>=1.34.41->aiobotocore<3.0.0,>=2.5.4->s3fs->hypercoast[extra]) (1.0.1)\n",
      "Requirement already satisfied: decorator in c:\\users\\c00553090\\appdata\\local\\miniconda3\\envs\\hyper\\lib\\site-packages (from ipython>=6.1.0->ipywidgets->leafmap->hypercoast[extra]) (5.1.1)\n",
      "Requirement already satisfied: jedi>=0.16 in c:\\users\\c00553090\\appdata\\local\\miniconda3\\envs\\hyper\\lib\\site-packages (from ipython>=6.1.0->ipywidgets->leafmap->hypercoast[extra]) (0.19.1)\n",
      "Requirement already satisfied: matplotlib-inline in c:\\users\\c00553090\\appdata\\local\\miniconda3\\envs\\hyper\\lib\\site-packages (from ipython>=6.1.0->ipywidgets->leafmap->hypercoast[extra]) (0.1.7)\n",
      "Requirement already satisfied: prompt-toolkit<3.1.0,>=3.0.41 in c:\\users\\c00553090\\appdata\\local\\miniconda3\\envs\\hyper\\lib\\site-packages (from ipython>=6.1.0->ipywidgets->leafmap->hypercoast[extra]) (3.0.42)\n",
      "Requirement already satisfied: pygments>=2.4.0 in c:\\users\\c00553090\\appdata\\local\\miniconda3\\envs\\hyper\\lib\\site-packages (from ipython>=6.1.0->ipywidgets->leafmap->hypercoast[extra]) (2.18.0)\n",
      "Requirement already satisfied: stack-data in c:\\users\\c00553090\\appdata\\local\\miniconda3\\envs\\hyper\\lib\\site-packages (from ipython>=6.1.0->ipywidgets->leafmap->hypercoast[extra]) (0.6.2)\n",
      "Requirement already satisfied: annotated-types>=0.4.0 in c:\\users\\c00553090\\appdata\\local\\miniconda3\\envs\\hyper\\lib\\site-packages (from pydantic~=2.0->rio-cogeo->localtileserver->hypercoast[extra]) (0.6.0)\n",
      "Requirement already satisfied: pydantic-core==2.18.2 in c:\\users\\c00553090\\appdata\\local\\miniconda3\\envs\\hyper\\lib\\site-packages (from pydantic~=2.0->rio-cogeo->localtileserver->hypercoast[extra]) (2.18.2)\n",
      "Requirement already satisfied: jsonschema-specifications>=2023.03.6 in c:\\users\\c00553090\\appdata\\local\\miniconda3\\envs\\hyper\\lib\\site-packages (from jsonschema->flask-restx>=0.5.0->localtileserver->hypercoast[extra]) (2023.12.1)\n",
      "Requirement already satisfied: referencing>=0.28.4 in c:\\users\\c00553090\\appdata\\local\\miniconda3\\envs\\hyper\\lib\\site-packages (from jsonschema->flask-restx>=0.5.0->localtileserver->hypercoast[extra]) (0.35.1)\n",
      "Requirement already satisfied: rpds-py>=0.7.1 in c:\\users\\c00553090\\appdata\\local\\miniconda3\\envs\\hyper\\lib\\site-packages (from jsonschema->flask-restx>=0.5.0->localtileserver->hypercoast[extra]) (0.18.1)\n",
      "Requirement already satisfied: soupsieve>1.2 in c:\\users\\c00553090\\appdata\\local\\miniconda3\\envs\\hyper\\lib\\site-packages (from beautifulsoup4->gdown->leafmap->hypercoast[extra]) (2.5)\n",
      "Requirement already satisfied: webencodings in c:\\users\\c00553090\\appdata\\local\\miniconda3\\envs\\hyper\\lib\\site-packages (from bleach->panel>=0.11.0->hvplot->hypercoast[extra]) (0.5.1)\n",
      "Requirement already satisfied: anyio in c:\\users\\c00553090\\appdata\\local\\miniconda3\\envs\\hyper\\lib\\site-packages (from httpx->rio-tiler->localtileserver->hypercoast[extra]) (4.3.0)\n",
      "Requirement already satisfied: httpcore==1.* in c:\\users\\c00553090\\appdata\\local\\miniconda3\\envs\\hyper\\lib\\site-packages (from httpx->rio-tiler->localtileserver->hypercoast[extra]) (1.0.5)\n",
      "Requirement already satisfied: sniffio in c:\\users\\c00553090\\appdata\\local\\miniconda3\\envs\\hyper\\lib\\site-packages (from httpx->rio-tiler->localtileserver->hypercoast[extra]) (1.3.1)\n",
      "Requirement already satisfied: h11<0.15,>=0.13 in c:\\users\\c00553090\\appdata\\local\\miniconda3\\envs\\hyper\\lib\\site-packages (from httpcore==1.*->httpx->rio-tiler->localtileserver->hypercoast[extra]) (0.14.0)\n",
      "Requirement already satisfied: uc-micro-py in c:\\users\\c00553090\\appdata\\local\\miniconda3\\envs\\hyper\\lib\\site-packages (from linkify-it-py->panel>=0.11.0->hvplot->hypercoast[extra]) (1.0.3)\n",
      "Requirement already satisfied: mdurl~=0.1 in c:\\users\\c00553090\\appdata\\local\\miniconda3\\envs\\hyper\\lib\\site-packages (from markdown-it-py->panel>=0.11.0->hvplot->hypercoast[extra]) (0.1.2)\n",
      "Requirement already satisfied: PySocks!=1.5.7,>=1.5.6 in c:\\users\\c00553090\\appdata\\local\\miniconda3\\envs\\hyper\\lib\\site-packages (from requests[socks]->gdown->leafmap->hypercoast[extra]) (1.7.1)\n",
      "Requirement already satisfied: parso<0.9.0,>=0.8.3 in c:\\users\\c00553090\\appdata\\local\\miniconda3\\envs\\hyper\\lib\\site-packages (from jedi>=0.16->ipython>=6.1.0->ipywidgets->leafmap->hypercoast[extra]) (0.8.4)\n",
      "Requirement already satisfied: wcwidth in c:\\users\\c00553090\\appdata\\local\\miniconda3\\envs\\hyper\\lib\\site-packages (from prompt-toolkit<3.1.0,>=3.0.41->ipython>=6.1.0->ipywidgets->leafmap->hypercoast[extra]) (0.2.13)\n",
      "Requirement already satisfied: executing>=1.2.0 in c:\\users\\c00553090\\appdata\\local\\miniconda3\\envs\\hyper\\lib\\site-packages (from stack-data->ipython>=6.1.0->ipywidgets->leafmap->hypercoast[extra]) (2.0.1)\n",
      "Requirement already satisfied: asttokens>=2.1.0 in c:\\users\\c00553090\\appdata\\local\\miniconda3\\envs\\hyper\\lib\\site-packages (from stack-data->ipython>=6.1.0->ipywidgets->leafmap->hypercoast[extra]) (2.4.1)\n",
      "Requirement already satisfied: pure-eval in c:\\users\\c00553090\\appdata\\local\\miniconda3\\envs\\hyper\\lib\\site-packages (from stack-data->ipython>=6.1.0->ipywidgets->leafmap->hypercoast[extra]) (0.2.2)\n",
      "Note: you may need to restart the kernel to use updated packages.\n"
     ]
    }
   ],
   "source": [
    "#%pip install \"hypercoast[extra]"
   ]
  },
  {
   "cell_type": "code",
   "execution_count": 1,
   "metadata": {},
   "outputs": [],
   "source": [
    "import hypercoast"
   ]
  },
  {
   "cell_type": "code",
   "execution_count": 2,
   "metadata": {},
   "outputs": [
    {
     "name": "stdout",
     "output_type": "stream",
     "text": [
      "data/cog.tif already exists. Skip downloading. Set overwrite=True to overwrite.\n"
     ]
    },
    {
     "data": {
      "text/plain": [
       "'c:\\\\Users\\\\C00553090\\\\DATA\\\\Hyperspectral\\\\HyperCoast\\\\docs\\\\examples\\\\data\\\\cog.tif'"
      ]
     },
     "execution_count": 2,
     "metadata": {},
     "output_type": "execute_result"
    }
   ],
   "source": [
    "url = \"https://github.com/opengeos/datasets/releases/download/raster/cog.tif\"\n",
    "filepath = \"data/cog.tif\"\n",
    "hypercoast.download_file(url, filepath, quiet=True)"
   ]
  },
  {
   "cell_type": "code",
   "execution_count": 3,
   "metadata": {},
   "outputs": [
    {
     "data": {
      "application/vnd.jupyter.widget-view+json": {
       "model_id": "5a688895726343c993d6f1bc6fe05846",
       "version_major": 2,
       "version_minor": 0
      },
      "text/plain": [
       "Map(center=[53.4070895, 6.8754805], controls=(ZoomControl(options=['position', 'zoom_in_text', 'zoom_in_title'…"
      ]
     },
     "execution_count": 3,
     "metadata": {},
     "output_type": "execute_result"
    }
   ],
   "source": [
    "m = hypercoast.Map()\n",
    "filepath = \"data/cog.tif\"  # replace it with your own raster data\n",
    "m.add_dataset(\n",
    "    filepath, indexes=[4, 1, 2], vmin=0, vmax=2500, layer_name=\"Landsat\", nodata=0\n",
    ")\n",
    "m.add(\"spectral\")\n",
    "m"
   ]
  },
  {
   "cell_type": "markdown",
   "metadata": {},
   "source": [
    "![](https://i.imgur.com/rAnFBcS.gif)"
   ]
  }
 ],
 "metadata": {
  "kernelspec": {
   "display_name": "Python 3 (ipykernel)",
   "language": "python",
   "name": "python3"
  },
  "language_info": {
   "codemirror_mode": {
    "name": "ipython",
    "version": 3
   },
   "file_extension": ".py",
   "mimetype": "text/x-python",
   "name": "python",
   "nbconvert_exporter": "python",
   "pygments_lexer": "ipython3",
   "version": "3.11.9"
  }
 },
 "nbformat": 4,
 "nbformat_minor": 4
}
