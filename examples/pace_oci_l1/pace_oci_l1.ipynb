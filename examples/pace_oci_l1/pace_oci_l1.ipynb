{
 "cells": [
  {
   "cell_type": "markdown",
   "metadata": {},
   "source": [
    "[![image](https://colab.research.google.com/assets/colab-badge.svg)](https://colab.research.google.com/github/opengeos/HyperCoast/blob/main/docs/examples/pace_oci_l1.ipynb)\n",
    "\n",
    "# Visualizing PACE OCI L1 data products with HyperCoast\n",
    "\n",
    "This notebook demonstrates how to visualize [Plankton, Aerosol, Cloud, ocean Ecosystem (PACE)](https://pace.gsfc.nasa.gov) OCI [L1 data products](https://pace.oceansciences.org/data_table.htm). Part of the notebook is adapted from the NASA OB.DAAC tutorial - [File Structure at Three Processing Levels for the Ocean Color Instrument (OCI)](https://oceancolor.gsfc.nasa.gov/resources/docs/tutorials/notebooks/oci_file_structure/). Credits to the NASA OB.DAAC team for the tutorial."
   ]
  },
  {
   "cell_type": "code",
   "execution_count": null,
   "metadata": {},
   "outputs": [],
   "source": [
    "# %pip install \"hypercoast[extra]\""
   ]
  },
  {
   "cell_type": "code",
   "execution_count": null,
   "metadata": {},
   "outputs": [],
   "source": [
    "import hypercoast\n",
    "import xarray as xr"
   ]
  },
  {
   "cell_type": "markdown",
   "metadata": {},
   "source": [
    "To download and access the data, you will need to create an Earthdata login. You can register for an account at [urs.earthdata.nasa.gov](https://urs.earthdata.nasa.gov/). Once you have an account, you can run the following cell to search and download PACE OCI L1 data products."
   ]
  },
  {
   "cell_type": "code",
   "execution_count": null,
   "metadata": {},
   "outputs": [],
   "source": [
    "hypercoast.nasa_earth_login()"
   ]
  },
  {
   "cell_type": "code",
   "execution_count": null,
   "metadata": {},
   "outputs": [],
   "source": [
    "hypercoast.nasa_earth_login()\n",
    "\n",
    "short_name = \"PACE_OCI_L1B_SCI\"\n",
    "results, gdf = hypercoast.search_nasa_data(\n",
    "    short_name=short_name,\n",
    "    bbox=(-90.5642, 29.9749, -89.7143, 30.42),\n",
    "    temporal=(\"2024-06-15\", \"2024-06-16\"),\n",
    "    return_gdf=True,\n",
    ")"
   ]
  },
  {
   "cell_type": "code",
   "execution_count": null,
   "metadata": {},
   "outputs": [],
   "source": [
    "gdf.explore()"
   ]
  },
  {
   "cell_type": "markdown",
   "metadata": {},
   "source": [
    "![](https://i.imgur.com/3FtwIXA.png)"
   ]
  },
  {
   "cell_type": "code",
   "execution_count": null,
   "metadata": {},
   "outputs": [],
   "source": [
    "hypercoast.download_nasa_data(results[0], out_dir=\"data\")"
   ]
  },
  {
   "cell_type": "markdown",
   "metadata": {},
   "source": [
    "Alternatively, use the following code block to download a sample dataset from [here](https://github.com/opengeos/datasets/releases/tag/hypercoast). "
   ]
  },
  {
   "cell_type": "code",
   "execution_count": null,
   "metadata": {},
   "outputs": [],
   "source": [
    "url = \"https://github.com/opengeos/datasets/releases/download/hypercoast/PACE_OCI.20240615T182549.L1B.nc\"\n",
    "filepath = \"data/PACE_OCI.20240615T182549.L1B.nc\"\n",
    "hypercoast.download_file(url, filepath)"
   ]
  },
  {
   "cell_type": "markdown",
   "metadata": {},
   "source": [
    "Let's check the top-level groups in the sample dataset."
   ]
  },
  {
   "cell_type": "code",
   "execution_count": null,
   "metadata": {},
   "outputs": [],
   "source": [
    "hypercoast.netcdf_groups(filepath)"
   ]
  },
  {
   "cell_type": "markdown",
   "metadata": {},
   "source": [
    "The top-level groups in the sample dataset are:\n",
    "\n",
    "```text\n",
    "['sensor_band_parameters',\n",
    " 'scan_line_attributes',\n",
    " 'geolocation_data',\n",
    " 'navigation_data',\n",
    " 'observation_data']\n",
    "```\n",
    "\n",
    "Let's open the `observation_data` group, which contains the core science variables."
   ]
  },
  {
   "cell_type": "code",
   "execution_count": null,
   "metadata": {},
   "outputs": [],
   "source": [
    "dataset = xr.open_dataset(filepath, group=\"observation_data\")\n",
    "print(list(dataset.variables))"
   ]
  },
  {
   "cell_type": "markdown",
   "metadata": {},
   "source": [
    "The data variables include:\n",
    "\n",
    "```text\n",
    "['rhot_blue', 'qual_blue', 'rhot_red', 'qual_red', 'rhot_SWIR', 'qual_SWIR']\n",
    "```\n",
    "\n",
    "The dimensions of the `rhot_blue` variable are `(\"blue_bands\", \"number_of_scans\", \"ccd_pixels\")`, and it has shape `(119, 1710, 1272)`. The sizes attribute of a variable gives us that information as a dictionary."
   ]
  },
  {
   "cell_type": "code",
   "execution_count": null,
   "metadata": {},
   "outputs": [],
   "source": [
    "dataset[\"rhot_blue\"].sizes"
   ]
  },
  {
   "cell_type": "markdown",
   "metadata": {},
   "source": [
    "The dimensions of the `rhot_red` variable are `(\"red_bands\", \"number_of_scans\", \"ccd_pixels\")`, and it has shape `(163, 1710, 1272)`"
   ]
  },
  {
   "cell_type": "code",
   "execution_count": null,
   "metadata": {},
   "outputs": [],
   "source": [
    "dataset[\"rhot_red\"].sizes"
   ]
  },
  {
   "cell_type": "markdown",
   "metadata": {},
   "source": [
    "The dimensions of the `rhot_SWIR` variable are `(\"SWIR_bands\", \"number_of_scans\", \"SWIR_pixels\")`, and it has shape `(9, 1710, 1272)`"
   ]
  },
  {
   "cell_type": "code",
   "execution_count": null,
   "metadata": {},
   "outputs": [],
   "source": [
    "dataset[\"rhot_SWIR\"].sizes"
   ]
  },
  {
   "cell_type": "markdown",
   "metadata": {},
   "source": [
    "Let's plot the reflectance at position `100` in the `blue_bands` dimension."
   ]
  },
  {
   "cell_type": "code",
   "execution_count": null,
   "metadata": {},
   "outputs": [],
   "source": [
    "plot = dataset[\"rhot_blue\"].sel({\"blue_bands\": 100}).plot()"
   ]
  },
  {
   "cell_type": "markdown",
   "metadata": {},
   "source": [
    "![](https://i.imgur.com/EzNMdMG.png)"
   ]
  }
 ],
 "metadata": {
  "kernelspec": {
   "display_name": "Python 3 (ipykernel)",
   "language": "python",
   "name": "python3"
  },
  "language_info": {
   "codemirror_mode": {
    "name": "ipython",
    "version": 3
   },
   "file_extension": ".py",
   "mimetype": "text/x-python",
   "name": "python",
   "nbconvert_exporter": "python",
   "pygments_lexer": "ipython3",
   "version": "3.11.9"
  }
 },
 "nbformat": 4,
 "nbformat_minor": 4
}
