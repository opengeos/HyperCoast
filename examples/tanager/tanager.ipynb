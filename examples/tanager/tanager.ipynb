{
 "cells": [
  {
   "cell_type": "markdown",
   "id": "0",
   "metadata": {},
   "source": [
    "# Visualizing Planet Tanager Data Interactively with HyperCoast\n",
    "\n",
    "[![image](https://colab.research.google.com/assets/colab-badge.svg)](https://colab.research.google.com/github/opengeos/HyperCoast/blob/main/docs/examples/tanager.ipynb)\n",
    "\n",
    "\n",
    "This notebook demonstrates how to visualize the [Planet Tanager hyperspectral data](https://www.planet.com/data/stac/browser/tanager-core-imagery/catalog.json) interactively with HyperCoast. \n",
    "\n",
    "\n",
    "Tanager-1 (launched August 2024) carries a high-precision Dyson imaging spectrometer onboard Planet’s next-generation smallsat bus. Tanager provides high spectral resolution (~5 nm) across the full 380–2500 nm VSWIR spectral range. For more details, please refer to the [Planet Tanager data release page](https://www.planet.com/pulse/unleash-the-power-of-hyperspectral-over-50-tanager-radiance-datasets-now-available-on-planet-s)."
   ]
  },
  {
   "cell_type": "markdown",
   "id": "1",
   "metadata": {},
   "source": [
    "## Install packages\n",
    "\n",
    "Uncomment the following line to install the packages."
   ]
  },
  {
   "cell_type": "code",
   "execution_count": null,
   "id": "2",
   "metadata": {},
   "outputs": [],
   "source": [
    "# %pip install hypercoast"
   ]
  },
  {
   "cell_type": "markdown",
   "id": "3",
   "metadata": {},
   "source": [
    "## Import libraries"
   ]
  },
  {
   "cell_type": "code",
   "execution_count": null,
   "id": "4",
   "metadata": {},
   "outputs": [],
   "source": [
    "import hypercoast"
   ]
  },
  {
   "cell_type": "markdown",
   "id": "5",
   "metadata": {},
   "source": [
    "## Find Tanager data\n",
    "\n",
    "Browse the Tanager data on the [Planet STAC browser](https://www.planet.com/data/stac/browser/tanager-core-imagery/catalog.json?.language=en). Find the data you want to visualize.\n",
    "\n",
    "For example, we want to visualize the data of the [coastal water bodies in the San Francisco Bay area](https://www.planet.com/data/stac/browser/tanager-core-imagery/coastal-water-bodies/20250514_193937_64_4001/20250514_193937_64_4001.json?.asset=asset-basic_radiance_hdf5).\n",
    "Click on the \"Copy URL\" button to get the direct URL of the data.\n",
    "\n",
    "![](https://github.com/user-attachments/assets/c0107919-c36a-4d92-9886-2701b282ff5c)"
   ]
  },
  {
   "cell_type": "markdown",
   "id": "6",
   "metadata": {},
   "source": [
    "## Download Tanager data\n",
    "\n",
    "Once you have the URL of the data, you can download the data using the following code:"
   ]
  },
  {
   "cell_type": "code",
   "execution_count": null,
   "id": "7",
   "metadata": {},
   "outputs": [],
   "source": [
    "url = \"https://storage.googleapis.com/open-cogs/planet-stac/release1-basic-radiance/20250514_193937_64_4001_basic_radiance.h5\""
   ]
  },
  {
   "cell_type": "code",
   "execution_count": null,
   "id": "8",
   "metadata": {},
   "outputs": [],
   "source": [
    "file_path = hypercoast.download_file(url)"
   ]
  },
  {
   "cell_type": "markdown",
   "id": "9",
   "metadata": {},
   "source": [
    "## Read Tanager data\n",
    "\n",
    "We can read the Tanager data using the `read_tanager` function. It will return a `xarray.Dataset` object. The `toa_radiance` variable is the top of atmosphere radiance. It has 426 spectral bands. Note that the dataset is not gridded. We will need to interpolate the data to a regular grid for visualization on an interactive map."
   ]
  },
  {
   "cell_type": "code",
   "execution_count": null,
   "id": "10",
   "metadata": {},
   "outputs": [],
   "source": [
    "dataset = hypercoast.read_tanager(file_path)\n",
    "dataset"
   ]
  },
  {
   "cell_type": "markdown",
   "id": "11",
   "metadata": {},
   "source": [
    "![](https://github.com/user-attachments/assets/da1b044b-69fa-400f-a750-55872c2e2f5e)"
   ]
  },
  {
   "cell_type": "markdown",
   "id": "12",
   "metadata": {},
   "source": [
    "## Visualize Tanager data\n",
    "\n",
    "Let's visualize the Tanager data on an interactive map. Specify the bands to visualize. You can visualize the data in the spectral space or the RGB space."
   ]
  },
  {
   "cell_type": "code",
   "execution_count": null,
   "id": "13",
   "metadata": {},
   "outputs": [],
   "source": [
    "m = hypercoast.Map()\n",
    "m.add_tanager(dataset, bands=[100, 60, 50], vmin=0, vmax=120, layer_name=\"Tanager\")\n",
    "m"
   ]
  },
  {
   "cell_type": "markdown",
   "id": "14",
   "metadata": {},
   "source": [
    "![](https://github.com/user-attachments/assets/274124f4-e438-4585-b721-bee39165fb90)"
   ]
  },
  {
   "cell_type": "markdown",
   "id": "15",
   "metadata": {},
   "source": [
    "Alternatively, you can visualize a single band of the Tanager data and specify a colormap."
   ]
  },
  {
   "cell_type": "code",
   "execution_count": null,
   "id": "16",
   "metadata": {},
   "outputs": [],
   "source": [
    "m = hypercoast.Map()\n",
    "m.add_tanager(dataset, bands=[100], colormap=\"jet\", layer_name=\"Tanager\")\n",
    "m"
   ]
  },
  {
   "cell_type": "markdown",
   "id": "17",
   "metadata": {},
   "source": [
    "![](https://github.com/user-attachments/assets/fb23a207-4b3d-4417-ad10-aa71cecf3b63)"
   ]
  },
  {
   "cell_type": "markdown",
   "id": "18",
   "metadata": {},
   "source": [
    "## Change band combinations interactively\n",
    "\n",
    "To change the band combinations interactively, you can use spectral tool to select the bands you want to visualize."
   ]
  },
  {
   "cell_type": "code",
   "execution_count": null,
   "id": "19",
   "metadata": {},
   "outputs": [],
   "source": [
    "m = hypercoast.Map()\n",
    "m.add_tanager(dataset, bands=[100, 60, 50])\n",
    "m.add(\"spectral\")\n",
    "m"
   ]
  },
  {
   "cell_type": "markdown",
   "id": "20",
   "metadata": {},
   "source": [
    "![](https://github.com/user-attachments/assets/ff4cb869-29c8-4a96-98bd-0a7600d3c7ef)"
   ]
  },
  {
   "cell_type": "markdown",
   "id": "21",
   "metadata": {},
   "source": [
    "## Visualize spectral signatures\n",
    "\n",
    "To visualize the spectral signatures, you can use the `spectral` tool. Simply click on the map to visualize the spectral signatures."
   ]
  },
  {
   "cell_type": "code",
   "execution_count": null,
   "id": "22",
   "metadata": {},
   "outputs": [],
   "source": [
    "m = hypercoast.Map()\n",
    "m.add_tanager(dataset, bands=[100, 60, 50])\n",
    "m.add(\"spectral\")\n",
    "m"
   ]
  },
  {
   "cell_type": "markdown",
   "id": "23",
   "metadata": {},
   "source": [
    "![](https://github.com/user-attachments/assets/bcb56d57-de68-4d97-af9b-6fb8134d242e)"
   ]
  },
  {
   "cell_type": "markdown",
   "id": "24",
   "metadata": {},
   "source": [
    "## Save spectral signatures\n",
    "\n",
    "To save the spectral signatures, click on the Save button in the spectral tool.\n",
    "\n",
    "![](https://github.com/user-attachments/assets/e0c45e07-cdd4-4406-9cd6-152b74b10d42)"
   ]
  }
 ],
 "metadata": {
  "kernelspec": {
   "display_name": "geo",
   "language": "python",
   "name": "python3"
  },
  "language_info": {
   "codemirror_mode": {
    "name": "ipython",
    "version": 3
   },
   "file_extension": ".py",
   "mimetype": "text/x-python",
   "name": "python",
   "nbconvert_exporter": "python",
   "pygments_lexer": "ipython3",
   "version": "3.12.2"
  }
 },
 "nbformat": 4,
 "nbformat_minor": 5
}
