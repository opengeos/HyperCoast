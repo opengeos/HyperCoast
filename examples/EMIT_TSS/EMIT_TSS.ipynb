{
 "cells": [
  {
   "cell_type": "markdown",
   "id": "0",
   "metadata": {},
   "source": [
    "# TSS Prediction using EMIT Data\n",
    "\n",
    "This notebook demonstrates how to **predict Total Suspended Solids (TSS)** concentrations using **EMIT hyperspectral imagery** and **a Mixture-of-Experts Variational Autoencoder (MoE-VAE)**, including key steps such as:\n",
    "\n",
    "- ✅ **Model Training and Testing**  \n",
    "- ✅ **Inference**\n",
    "- ✅ **Visualization**"
   ]
  },
  {
   "cell_type": "code",
   "execution_count": null,
   "id": "1",
   "metadata": {},
   "outputs": [],
   "source": [
    "# %pip install \"hypercoast[all]\""
   ]
  },
  {
   "cell_type": "code",
   "execution_count": null,
   "id": "2",
   "metadata": {},
   "outputs": [],
   "source": [
    "import torch\n",
    "import numpy as np\n",
    "import os\n",
    "import pickle\n",
    "\n",
    "from hypercoast import download_file\n",
    "from hypercoast.emit_utils import *"
   ]
  },
  {
   "cell_type": "markdown",
   "id": "3",
   "metadata": {},
   "source": [
    "First, download the sample data from Google Drive. The file size is about 3.0 GB. It may take a while to download. Please be patient. The downloaded zip file will be saved as `EMIT-sample-data.zip` in the current working directory and automatically unzipped to `data` folder."
   ]
  },
  {
   "cell_type": "code",
   "execution_count": null,
   "id": "4",
   "metadata": {},
   "outputs": [],
   "source": [
    "url = \"https://drive.google.com/file/d/1q80PhA_vrLgIjRHuyxunVoWXmVUNgggV/view\""
   ]
  },
  {
   "cell_type": "code",
   "execution_count": null,
   "id": "5",
   "metadata": {},
   "outputs": [],
   "source": [
    "download_file(url, output=\"EMIT-sample-data.zip\")"
   ]
  },
  {
   "cell_type": "code",
   "execution_count": null,
   "id": "6",
   "metadata": {},
   "outputs": [],
   "source": [
    "# === Device ===\n",
    "device = torch.device(\"cuda:0\" if torch.cuda.is_available() else \"cpu\")\n",
    "print(f\"Using device: {device}\")\n",
    "\n",
    "# === Parameters ===\n",
    "selected_bands = [\n",
    "    403,\n",
    "    411,\n",
    "    418,\n",
    "    425,\n",
    "    433,\n",
    "    440,\n",
    "    448,\n",
    "    455,\n",
    "    463,\n",
    "    470,\n",
    "    477,\n",
    "    485,\n",
    "    492,\n",
    "    500,\n",
    "    507,\n",
    "    515,\n",
    "    522,\n",
    "    530,\n",
    "    537,\n",
    "    544,\n",
    "    552,\n",
    "    559,\n",
    "    567,\n",
    "    574,\n",
    "    582,\n",
    "    589,\n",
    "    597,\n",
    "    604,\n",
    "    611,\n",
    "    619,\n",
    "    626,\n",
    "    634,\n",
    "    641,\n",
    "    649,\n",
    "    656,\n",
    "    664,\n",
    "    671,\n",
    "    679,\n",
    "    686,\n",
    "    693,\n",
    "    701,\n",
    "    708,\n",
    "    716,\n",
    "    723,\n",
    "    731,\n",
    "    738,\n",
    "    746,\n",
    "    753,\n",
    "    768,\n",
    "    776,\n",
    "    783,\n",
    "    790,\n",
    "    798,\n",
    "    805,\n",
    "    813,\n",
    "    820,\n",
    "    828,\n",
    "    835,\n",
    "    843,\n",
    "    850,\n",
    "    858,\n",
    "    865,\n",
    "    873,\n",
    "    880,\n",
    "    887,\n",
    "    895,\n",
    "]\n",
    "\n",
    "excel_path = \"data/Gloria_updated_07242025.xlsx\"\n",
    "test_files = [\n",
    "    \"data/GreatLake_all_data.xlsx\",\n",
    "    \"data/GOA_insitu_data_09052025.xlsx\",\n",
    "    \"data/satellite_for_EMIT_09052025.xlsx\",\n",
    "]\n",
    "nc_path = \"data/ISS_EMIT_2024_09_29_17_42_42_L2W.nc\"\n",
    "rgb_path = \"data/ISS_EMIT_2024_09_29_17_42_42_L2R.nc\"\n",
    "save_dir = \"./EMIT/test_TSS\"\n",
    "os.makedirs(save_dir, exist_ok=True)"
   ]
  },
  {
   "cell_type": "code",
   "execution_count": null,
   "id": "7",
   "metadata": {},
   "outputs": [],
   "source": [
    "# === Training dataset ===\n",
    "(\n",
    "    train_real_dl,\n",
    "    test_real_dl,\n",
    "    input_dim,\n",
    "    output_dim,\n",
    "    train_ids,\n",
    "    test_ids,\n",
    "    scalers_Rrs_real,\n",
    "    scalers_dict,\n",
    ") = load_real_data_Robust(\n",
    "    excel_path=excel_path,\n",
    "    selected_bands=selected_bands,\n",
    "    target_parameter=\"TSS\",\n",
    "    lower_quantile=0,\n",
    "    upper_quantile=1,\n",
    ")"
   ]
  },
  {
   "cell_type": "code",
   "execution_count": null,
   "id": "8",
   "metadata": {},
   "outputs": [],
   "source": [
    "# === External test datasets ===\n",
    "test_dls, test_ids_list, test_dates_list = [], [], []\n",
    "\n",
    "for file in test_files:\n",
    "    dl, _, _, ids, dates = load_real_test_Robust(\n",
    "        excel_path=file,\n",
    "        selected_bands=selected_bands,\n",
    "        scaler_Rrs=scalers_Rrs_real,\n",
    "        scalers_dict=scalers_dict,\n",
    "        target_parameter=\"TSS\",\n",
    "    )\n",
    "    test_dls.append(dl)\n",
    "    test_ids_list.append(ids)\n",
    "    test_dates_list.append(dates)"
   ]
  },
  {
   "cell_type": "code",
   "execution_count": null,
   "id": "9",
   "metadata": {},
   "outputs": [],
   "source": [
    "# === EMIT image preprocess ===\n",
    "test_loader, Rrs, mask, latitude, longitude = preprocess_emit_data_Robust(\n",
    "    nc_path=nc_path,\n",
    "    scaler_Rrs=scalers_Rrs_real,\n",
    "    full_band_wavelengths=np.array(selected_bands),\n",
    ")"
   ]
  },
  {
   "cell_type": "code",
   "execution_count": null,
   "id": "10",
   "metadata": {},
   "outputs": [],
   "source": [
    "# Define the Mixture-of-Experts Variational Autoencoder (MoE-VAE) model\n",
    "model = MoE_VAE(\n",
    "    input_dim=input_dim,\n",
    "    output_dim=output_dim,\n",
    "    latent_dim=16,\n",
    "    encoder_hidden_dims=[128, 64, 32],\n",
    "    decoder_hidden_dims=[32, 64, 128],\n",
    "    activation=\"leakyrelu\",\n",
    "    use_norm=\"layer\",\n",
    "    use_dropout=False,\n",
    "    use_softplus_output=False,\n",
    "    num_experts=4,\n",
    "    k=2,\n",
    "    noisy_gating=True,\n",
    ").to(device)"
   ]
  },
  {
   "cell_type": "code",
   "execution_count": null,
   "id": "11",
   "metadata": {},
   "outputs": [],
   "source": [
    "# Define optimizer and Train the MoE-VAE model\n",
    "optimizer = torch.optim.Adam(model.parameters(), lr=1e-3)\n",
    "train_log = train(\n",
    "    model, train_real_dl, device, epochs=400, optimizer=optimizer, save_dir=save_dir\n",
    ")"
   ]
  },
  {
   "cell_type": "code",
   "execution_count": null,
   "id": "12",
   "metadata": {},
   "outputs": [],
   "source": [
    "# Evaluate model on test set, compute metrics, save and plot results\n",
    "predictions, actuals = evaluate(model, test_real_dl, device, scalers_dict)\n",
    "epsilon, beta, nrmse, rmsle, mape, bias, mae = calculate_metrics(predictions, actuals)\n",
    "test_loss = mae\n",
    "\n",
    "save_results_to_excel(\n",
    "    test_ids, actuals, predictions, os.path.join(save_dir, \"test_results.xlsx\")\n",
    ")\n",
    "plot_results_with_density(\n",
    "    predictions, actuals, save_dir, mode=\"test_results\", xlim=(-2, 4), ylim=(-2, 4)\n",
    ")"
   ]
  },
  {
   "cell_type": "code",
   "execution_count": null,
   "id": "13",
   "metadata": {},
   "outputs": [],
   "source": [
    "# Evaluate on external test datasets\n",
    "for dl, ids, dates, path in zip(test_dls, test_ids_list, test_dates_list, test_files):\n",
    "    preds, acts = evaluate(model, dl, device, scalers_dict)\n",
    "    save_results_from_excel_for_test(preds, acts, ids, dates, path, save_dir)\n",
    "    # Get unique mode name from file name\n",
    "    mode_name = os.path.splitext(os.path.basename(path))[0]\n",
    "    # Save individual plot\n",
    "    plot_results(\n",
    "        preds,\n",
    "        acts,\n",
    "        save_dir,\n",
    "        threshold=10,\n",
    "        mode=f\"test_{mode_name}\",\n",
    "        xlim=(-2, 4),\n",
    "        ylim=(-2, 4),\n",
    "    )"
   ]
  },
  {
   "cell_type": "code",
   "execution_count": null,
   "id": "14",
   "metadata": {},
   "outputs": [],
   "source": [
    "# Save scalers for Rrs and other features\n",
    "torch.save(scalers_dict, os.path.join(save_dir, \"scaler.pt\"))\n",
    "with open(os.path.join(save_dir, \"scalers_Rrs_real.pkl\"), \"wb\") as f:\n",
    "    pickle.dump(scalers_Rrs_real, f)"
   ]
  },
  {
   "cell_type": "code",
   "execution_count": null,
   "id": "15",
   "metadata": {},
   "outputs": [],
   "source": [
    "# Perform model inference and generate a spatial map of predicted TSS concentration\n",
    "Output = infer_and_visualize_single_model_Robust(\n",
    "    model=model,\n",
    "    test_loader=test_loader,\n",
    "    Rrs=Rrs,\n",
    "    mask=mask,\n",
    "    latitude=latitude,\n",
    "    longitude=longitude,\n",
    "    save_folder=save_dir,\n",
    "    rgb_nc_file=rgb_path,\n",
    "    structure_name=\"TSS\",\n",
    "    TSS_scalers_dict=scalers_dict,\n",
    "    vmin=0,\n",
    "    vmax=50,\n",
    ")"
   ]
  },
  {
   "cell_type": "code",
   "execution_count": null,
   "id": "16",
   "metadata": {},
   "outputs": [],
   "source": [
    "# Save predicted Chlorophyll-a as GeoTIFF and visualize the spatial distribution on map\n",
    "tif_path = os.path.join(save_dir, \"TSS.tif\")\n",
    "\n",
    "npy_to_tif(npy_input=Output, out_tif=tif_path, resolution_m=30)\n",
    "\n",
    "with rasterio.open(tif_path) as src:\n",
    "    img = src.read(1)\n",
    "    transform = src.transform\n",
    "    bounds = src.bounds\n",
    "img_masked = np.where(img < 0, np.nan, img)\n",
    "extent = [bounds.left, bounds.right, bounds.bottom, bounds.top]\n",
    "plt.figure(figsize=(8, 6))\n",
    "im = plt.imshow(img_masked, cmap=\"jet\", vmin=0, vmax=50, extent=extent, origin=\"upper\")\n",
    "plt.colorbar(im, label=\"TSS\")\n",
    "plt.title(\"TSS\")\n",
    "plt.show()"
   ]
  }
 ],
 "metadata": {
  "kernelspec": {
   "display_name": "geo",
   "language": "python",
   "name": "python3"
  },
  "language_info": {
   "codemirror_mode": {
    "name": "ipython",
    "version": 3
   },
   "file_extension": ".py",
   "mimetype": "text/x-python",
   "name": "python",
   "nbconvert_exporter": "python",
   "pygments_lexer": "ipython3",
   "version": "3.12.2"
  }
 },
 "nbformat": 4,
 "nbformat_minor": 5
}
