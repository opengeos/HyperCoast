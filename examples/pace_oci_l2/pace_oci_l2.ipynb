{
 "cells": [
  {
   "cell_type": "markdown",
   "metadata": {},
   "source": [
    "[![image](https://colab.research.google.com/assets/colab-badge.svg)](https://colab.research.google.com/github/opengeos/HyperCoast/blob/main/docs/examples/pace_oci_l2.ipynb)\n",
    "\n",
    "# Visualizing PACE OCI L2 data products with HyperCoast\n",
    "\n",
    "This notebook demonstrates how to visualize [Plankton, Aerosol, Cloud, ocean Ecosystem (PACE)](https://pace.gsfc.nasa.gov) OCI [L2 data products](https://pace.oceansciences.org/data_table.htm#14), including the concentration of chlorophyll-a, concentration of phytoplankton carbon, and concentration of particulate organic carbon."
   ]
  },
  {
   "cell_type": "code",
   "execution_count": null,
   "metadata": {},
   "outputs": [],
   "source": [
    "# %pip install \"hypercoast[extra]\""
   ]
  },
  {
   "cell_type": "code",
   "execution_count": null,
   "metadata": {},
   "outputs": [],
   "source": [
    "import hypercoast"
   ]
  },
  {
   "cell_type": "markdown",
   "metadata": {},
   "source": [
    "To download and access the data, you will need to create an Earthdata login. You can register for an account at [urs.earthdata.nasa.gov](https://urs.earthdata.nasa.gov/). Once you have an account, you can uncomment and run the following cell to search and download PACE OCI L2 data products."
   ]
  },
  {
   "cell_type": "code",
   "execution_count": null,
   "metadata": {},
   "outputs": [],
   "source": [
    "# hypercoast.nasa_earth_login()\n",
    "\n",
    "# short_name = \"PACE_OCI_L2_BGC_NRT\"\n",
    "# results, gdf = hypercoast.search_nasa_data(\n",
    "#     short_name=short_name,\n",
    "#     bbox=(-90.5642, 29.9749, -89.7143, 30.42),\n",
    "#     temporal=(\"2024-06-15\", \"2024-06-16\"),\n",
    "#     return_gdf=True\n",
    "#     )\n",
    "# hypercoast.download_nasa_data(results, out_dir=\"bgc\")"
   ]
  },
  {
   "cell_type": "markdown",
   "metadata": {},
   "source": [
    "Alternatively, use the following code block to download a sample dataset from [here](https://github.com/opengeos/datasets/releases/tag/hypercoast). "
   ]
  },
  {
   "cell_type": "code",
   "execution_count": null,
   "metadata": {},
   "outputs": [],
   "source": [
    "url = \"https://github.com/opengeos/datasets/releases/download/hypercoast/PACE_OCI.20240615T182549.L2.OC_BGC.V1_0_0.NRT.nc\"\n",
    "filepath = \"data/PACE_OCI.20240615T182549.L2.OC_BGC.V1_0_0.NRT.nc\"\n",
    "hypercoast.download_file(url, filepath)"
   ]
  },
  {
   "cell_type": "markdown",
   "metadata": {},
   "source": [
    "Load the downloaded dataset as an `xarray.Dataset`:"
   ]
  },
  {
   "cell_type": "code",
   "execution_count": null,
   "metadata": {},
   "outputs": [],
   "source": [
    "dataset = hypercoast.read_pace_bgc(filepath)"
   ]
  },
  {
   "cell_type": "markdown",
   "metadata": {},
   "source": [
    "Let's inspect the data variables contained in the dataset:"
   ]
  },
  {
   "cell_type": "code",
   "execution_count": null,
   "metadata": {},
   "outputs": [],
   "source": [
    "dataset.variables"
   ]
  },
  {
   "cell_type": "markdown",
   "metadata": {},
   "source": [
    "We can see that the dataset contains the following variables:\n",
    "- [Chlorophyll Concentration](https://www.earthdata.nasa.gov/apt/documents/chlor-a/v1.0)\n",
    "- [Phytoplankton Carbon](https://oceancolor.gsfc.nasa.gov/resources/atbd/cphyt/)\n",
    "- [Particulate Organic Carbon](https://oceancolor.gsfc.nasa.gov/resources/atbd/poc/)"
   ]
  },
  {
   "cell_type": "markdown",
   "metadata": {},
   "source": [
    "Transform the xarray dataset into gridded data. \n",
    "\n",
    "Plot the Chlorophyll Concentration."
   ]
  },
  {
   "cell_type": "code",
   "execution_count": null,
   "metadata": {},
   "outputs": [],
   "source": [
    "chlor_a = hypercoast.grid_pace_bgc(dataset, variable=\"chlor_a\", method=\"linear\")\n",
    "chlor_a.plot(vmin=0, vmax=20, cmap=\"jet\", size=6)"
   ]
  },
  {
   "cell_type": "markdown",
   "metadata": {},
   "source": [
    "Plot the Phytoplankton Carbon."
   ]
  },
  {
   "cell_type": "code",
   "execution_count": null,
   "metadata": {},
   "outputs": [],
   "source": [
    "carbon_phyto = hypercoast.grid_pace_bgc(\n",
    "    dataset, variable=\"carbon_phyto\", method=\"linear\"\n",
    ")\n",
    "carbon_phyto.plot(vmin=0, vmax=120, cmap=\"jet\", size=6)"
   ]
  },
  {
   "cell_type": "markdown",
   "metadata": {},
   "source": [
    "Particulate Organic Carbon."
   ]
  },
  {
   "cell_type": "code",
   "execution_count": null,
   "metadata": {},
   "outputs": [],
   "source": [
    "poc = hypercoast.grid_pace_bgc(dataset, variable=\"poc\", method=\"linear\")\n",
    "poc.plot(vmin=0, vmax=1000, cmap=\"jet\")"
   ]
  },
  {
   "cell_type": "markdown",
   "metadata": {},
   "source": [
    "Plot the data on an interactive map."
   ]
  },
  {
   "cell_type": "code",
   "execution_count": null,
   "metadata": {},
   "outputs": [],
   "source": [
    "m = hypercoast.Map()\n",
    "m.add_basemap(\"Hybrid\")\n",
    "m.add_raster(chlor_a, layer_name=\"Chlorophyll-a\", colormap=\"jet\", vmin=0, vmax=20)\n",
    "m.add_raster(\n",
    "    carbon_phyto, layer_name=\"Phytoplankton Carbon\", colormap=\"plasma\", vmin=0, vmax=120\n",
    ")\n",
    "m.add_raster(\n",
    "    poc, layer_name=\"Particulate Organic Carbon\", colormap=\"coolwarm\", vmin=0, vmax=1000\n",
    ")\n",
    "m.add_layer_manager()\n",
    "\n",
    "m.add_colormap(cmap=\"jet\", vmin=0, vmax=20, label=\"Chlorophyll-a (mg/m3)\")\n",
    "m.add_colormap(cmap=\"plasma\", vmin=0, vmax=120, label=\"Phytoplankton Carbon (mg/m3)\")\n",
    "m.add_colormap(\n",
    "    cmap=\"coolwarm\", vmin=0, vmax=1000, label=\"Particulate Organic Carbon (mg/m3)\"\n",
    ")\n",
    "m"
   ]
  },
  {
   "cell_type": "markdown",
   "metadata": {},
   "source": [
    "![](https://i.imgur.com/AEccc5k.gif)"
   ]
  }
 ],
 "metadata": {
  "kernelspec": {
   "display_name": "Python 3 (ipykernel)",
   "language": "python",
   "name": "python3"
  },
  "language_info": {
   "codemirror_mode": {
    "name": "ipython",
    "version": 3
   },
   "file_extension": ".py",
   "mimetype": "text/x-python",
   "name": "python",
   "nbconvert_exporter": "python",
   "pygments_lexer": "ipython3",
   "version": "3.11.9"
  }
 },
 "nbformat": 4,
 "nbformat_minor": 4
}
