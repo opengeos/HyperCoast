{
 "cells": [
  {
   "cell_type": "markdown",
   "id": "0",
   "metadata": {},
   "source": [
    "# Visualizing Planet's Tanager Data in 3D\n",
    "\n",
    "[![image](https://colab.research.google.com/assets/colab-badge.svg)](https://colab.research.google.com/github/opengeos/HyperCoast/blob/main/docs/examples/tanager_3d.ipynb)\n",
    "\n",
    "\n",
    "This notebook demonstrates how to visualize [Planet's Tanager hyperspectral data](https://www.planet.com/data/stac/browser/tanager-core-imagery/catalog.json) in 3D with HyperCoast. \n",
    "\n",
    "\n",
    "Tanager-1 (launched August 2024) carries a high-precision Dyson imaging spectrometer onboard Planet’s next-generation smallsat bus. Tanager provides high spectral resolution (~5 nm) across the full 380–2500 nm VSWIR spectral range. For more details, please refer to the [Planet Tanager data release page](https://www.planet.com/pulse/unleash-the-power-of-hyperspectral-over-50-tanager-radiance-datasets-now-available-on-planet-s)."
   ]
  },
  {
   "cell_type": "markdown",
   "id": "1",
   "metadata": {},
   "source": [
    "## Install packages\n",
    "\n",
    "Uncomment the following line to install the packages."
   ]
  },
  {
   "cell_type": "code",
   "execution_count": null,
   "id": "2",
   "metadata": {},
   "outputs": [],
   "source": [
    "# %pip install hypercoast"
   ]
  },
  {
   "cell_type": "markdown",
   "id": "3",
   "metadata": {},
   "source": [
    "## Import libraries"
   ]
  },
  {
   "cell_type": "code",
   "execution_count": null,
   "id": "4",
   "metadata": {},
   "outputs": [],
   "source": [
    "import hypercoast"
   ]
  },
  {
   "cell_type": "markdown",
   "id": "5",
   "metadata": {},
   "source": [
    "## Find Tanager data\n",
    "\n",
    "Browse the Tanager data on the [Planet STAC browser](https://www.planet.com/data/stac/browser/tanager-core-imagery/catalog.json?.language=en). Find the data you want to visualize.\n",
    "\n",
    "For example, we want to visualize the data of the [coastal water bodies in the San Francisco Bay area](https://www.planet.com/data/stac/browser/tanager-core-imagery/coastal-water-bodies/20250514_193937_64_4001/20250514_193937_64_4001.json?.asset=asset-basic_radiance_hdf5).\n",
    "Click on the \"Copy URL\" button to get the direct URL of the data."
   ]
  },
  {
   "cell_type": "markdown",
   "id": "6",
   "metadata": {},
   "source": [
    "## Download Tanager data\n",
    "\n",
    "Once you have the URL of the data, you can download the data using the following code:"
   ]
  },
  {
   "cell_type": "code",
   "execution_count": null,
   "id": "7",
   "metadata": {},
   "outputs": [],
   "source": [
    "url = \"https://storage.googleapis.com/open-cogs/planet-stac/release1-basic-radiance/20250514_193937_64_4001_basic_radiance.h5\""
   ]
  },
  {
   "cell_type": "code",
   "execution_count": null,
   "id": "8",
   "metadata": {},
   "outputs": [],
   "source": [
    "file_path = hypercoast.download_file(url)"
   ]
  },
  {
   "cell_type": "markdown",
   "id": "9",
   "metadata": {},
   "source": [
    "## Read Tanager data\n",
    "\n",
    "We can read the Tanager data using the `read_tanager` function. It will return a `xarray.Dataset` object. The `toa_radiance` variable is the top of atmosphere radiance. It has 426 spectral bands. Note that the dataset is not gridded. We will need to interpolate the data to a regular grid for visualization on an interactive map."
   ]
  },
  {
   "cell_type": "code",
   "execution_count": null,
   "id": "10",
   "metadata": {},
   "outputs": [],
   "source": [
    "dataset = hypercoast.read_tanager(file_path)\n",
    "dataset"
   ]
  },
  {
   "cell_type": "markdown",
   "id": "11",
   "metadata": {},
   "source": [
    "## Visualize Tanager data in 2D\n",
    "\n",
    "Let's visualize the Tanager data on an interactive map. Specify the bands to visualize. You can visualize the data in the spectral space or the RGB space."
   ]
  },
  {
   "cell_type": "code",
   "execution_count": null,
   "id": "12",
   "metadata": {},
   "outputs": [],
   "source": [
    "m = hypercoast.Map()\n",
    "m.add_tanager(dataset, bands=[100, 60, 50], vmin=0, vmax=120, layer_name=\"Tanager\")\n",
    "m.add(\"spectral\")\n",
    "m"
   ]
  },
  {
   "cell_type": "markdown",
   "id": "13",
   "metadata": {},
   "source": [
    "![](https://github.com/user-attachments/assets/a7493165-b622-4522-b766-0bbd7b6c22e8)"
   ]
  },
  {
   "cell_type": "markdown",
   "id": "14",
   "metadata": {},
   "source": [
    "## Create a rectangular grid of Tanager data"
   ]
  },
  {
   "cell_type": "code",
   "execution_count": null,
   "id": "15",
   "metadata": {},
   "outputs": [],
   "source": [
    "gridded = hypercoast.grid_tanager(dataset, row_range=(200, 400), col_range=(200, 400))\n",
    "gridded = (gridded / 100).clip(0, 1)\n",
    "gridded"
   ]
  },
  {
   "cell_type": "markdown",
   "id": "16",
   "metadata": {},
   "source": [
    "## Create a 3D image cube"
   ]
  },
  {
   "cell_type": "code",
   "execution_count": null,
   "id": "17",
   "metadata": {},
   "outputs": [],
   "source": [
    "p = hypercoast.image_cube(\n",
    "    gridded,\n",
    "    variable=\"toa_radiance\",\n",
    "    cmap=\"jet\",\n",
    "    clim=(0, 1),\n",
    "    rgb_wavelengths=[1000, 600, 500],\n",
    "    title=\"Radiance * 100\",\n",
    ")\n",
    "p.show()"
   ]
  },
  {
   "cell_type": "markdown",
   "id": "18",
   "metadata": {},
   "source": [
    "## Interactive slicing along the z-axis (band)"
   ]
  },
  {
   "cell_type": "code",
   "execution_count": null,
   "id": "19",
   "metadata": {},
   "outputs": [],
   "source": [
    "p = hypercoast.image_cube(\n",
    "    gridded,\n",
    "    variable=\"toa_radiance\",\n",
    "    cmap=\"jet\",\n",
    "    clim=(0, 1),\n",
    "    rgb_wavelengths=[1000, 700, 500],\n",
    "    title=\"Radiance * 100\",\n",
    "    widget=\"slice\",\n",
    ")\n",
    "p.add_text(\"Band slicing \", position=\"upper_right\", font_size=14)\n",
    "p.show()"
   ]
  },
  {
   "cell_type": "markdown",
   "id": "20",
   "metadata": {},
   "source": [
    "## Interactive slicing along the x-axis (longitude)."
   ]
  },
  {
   "cell_type": "code",
   "execution_count": null,
   "id": "21",
   "metadata": {},
   "outputs": [],
   "source": [
    "p = hypercoast.image_cube(\n",
    "    gridded,\n",
    "    variable=\"toa_radiance\",\n",
    "    cmap=\"jet\",\n",
    "    clim=(0, 1),\n",
    "    rgb_wavelengths=[1000, 700, 500],\n",
    "    widget=\"slice\",\n",
    "    normal=\"x\",\n",
    ")\n",
    "p.add_text(\"X-axis slicing \", position=\"upper_right\", font_size=14)\n",
    "p.show()"
   ]
  },
  {
   "cell_type": "markdown",
   "id": "22",
   "metadata": {},
   "source": [
    "## Orthogonal slicing"
   ]
  },
  {
   "cell_type": "code",
   "execution_count": null,
   "id": "23",
   "metadata": {},
   "outputs": [],
   "source": [
    "p = hypercoast.image_cube(\n",
    "    gridded,\n",
    "    variable=\"toa_radiance\",\n",
    "    cmap=\"jet\",\n",
    "    clim=(0, 1),\n",
    "    rgb_wavelengths=[1000, 700, 500],\n",
    "    title=\"Radiance * 100\",\n",
    "    widget=\"orthogonal\",\n",
    ")\n",
    "p.add_text(\"Orthogonal slicing\", position=\"upper_right\", font_size=14)\n",
    "p.show()"
   ]
  },
  {
   "cell_type": "markdown",
   "id": "24",
   "metadata": {},
   "source": [
    "## Clip the image cube with a plane (band slicing)"
   ]
  },
  {
   "cell_type": "code",
   "execution_count": null,
   "id": "25",
   "metadata": {},
   "outputs": [],
   "source": [
    "p = hypercoast.image_cube(\n",
    "    gridded,\n",
    "    variable=\"toa_radiance\",\n",
    "    cmap=\"jet\",\n",
    "    clim=(0, 1),\n",
    "    rgb_wavelengths=[1000, 700, 500],\n",
    "    title=\"Radiance * 100\",\n",
    "    widget=\"plane\",\n",
    ")\n",
    "p.add_text(\"Band slicing\", position=\"upper_right\", font_size=14)\n",
    "p.show()"
   ]
  },
  {
   "cell_type": "markdown",
   "id": "26",
   "metadata": {},
   "source": [
    "## Interactive thresholding"
   ]
  },
  {
   "cell_type": "code",
   "execution_count": null,
   "id": "27",
   "metadata": {},
   "outputs": [],
   "source": [
    "p = hypercoast.image_cube(\n",
    "    gridded,\n",
    "    variable=\"toa_radiance\",\n",
    "    cmap=\"jet\",\n",
    "    clim=(0, 1),\n",
    "    rgb_wavelengths=[1000, 700, 500],\n",
    "    title=\"Radiance * 100\",\n",
    "    widget=\"threshold\",\n",
    ")\n",
    "p.add_text(\"Thresholding\", position=\"upper_right\", font_size=14)\n",
    "p.show()"
   ]
  }
 ],
 "metadata": {
  "kernelspec": {
   "display_name": "Python 3",
   "language": "python",
   "name": "python3"
  },
  "language_info": {
   "codemirror_mode": {
    "name": "ipython",
    "version": 3
   },
   "file_extension": ".py",
   "mimetype": "text/x-python",
   "name": "python",
   "nbconvert_exporter": "python",
   "pygments_lexer": "ipython3",
   "version": "3.12.2"
  }
 },
 "nbformat": 4,
 "nbformat_minor": 5
}
