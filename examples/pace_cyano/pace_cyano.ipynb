{
 "cells": [
  {
   "cell_type": "markdown",
   "metadata": {
    "id": "yk1OuuFc-_I4"
   },
   "source": [
    "[![image](https://colab.research.google.com/assets/colab-badge.svg)](https://colab.research.google.com/github/opengeos/HyperCoast/blob/main/docs/examples/pace_cyano.ipynb)\n",
    "\n",
    "# Mapping Cyanobacteria with PACE data"
   ]
  },
  {
   "cell_type": "markdown",
   "metadata": {
    "id": "AvpjFXjN-_I_"
   },
   "source": [
    "## Install packages\n",
    "\n",
    "Uncomment the following cell to install the HyperCoast package."
   ]
  },
  {
   "cell_type": "code",
   "execution_count": null,
   "metadata": {},
   "outputs": [],
   "source": [
    "# %pip install -U \"hypercoast[extra]\""
   ]
  },
  {
   "cell_type": "markdown",
   "metadata": {
    "id": "ASucI-Sc-_JD"
   },
   "source": [
    "## Import libraries"
   ]
  },
  {
   "cell_type": "code",
   "execution_count": null,
   "metadata": {
    "id": "3Tb_-nbK-_JE"
   },
   "outputs": [],
   "source": [
    "import earthaccess\n",
    "import hypercoast\n",
    "from hypercoast.pace import (\n",
    "    cyano_band_ratios,\n",
    "    apply_kmeans,\n",
    "    apply_pca,\n",
    "    apply_sam,\n",
    "    apply_sam_spectral,\n",
    ")"
   ]
  },
  {
   "cell_type": "markdown",
   "metadata": {
    "id": "bsEz1U-e-_JE"
   },
   "source": [
    "## Download PACE data\n",
    "\n",
    "To download and access the PACE AOP data, you will need to create an Earthdata login. You can register for an account at [urs.earthdata.nasa.gov](https://urs.earthdata.nasa.gov). Once you have an account, run the following cell and enter your NASA Earthdata login credentials."
   ]
  },
  {
   "cell_type": "code",
   "execution_count": null,
   "metadata": {},
   "outputs": [],
   "source": [
    "earthaccess.login(persist=True)"
   ]
  },
  {
   "cell_type": "markdown",
   "metadata": {},
   "source": [
    "Search for PACE AOP data:"
   ]
  },
  {
   "cell_type": "code",
   "execution_count": null,
   "metadata": {},
   "outputs": [],
   "source": [
    "results = hypercoast.search_pace(\n",
    "    bounding_box=(-83, 25, -81, 28),\n",
    "    temporal=(\"2024-07-30\", \"2024-08-15\"),\n",
    "    short_name=\"PACE_OCI_L2_AOP_NRT\",\n",
    "    count=1,\n",
    ")"
   ]
  },
  {
   "cell_type": "markdown",
   "metadata": {},
   "source": [
    "Download PACE AOP data:"
   ]
  },
  {
   "cell_type": "code",
   "execution_count": null,
   "metadata": {},
   "outputs": [],
   "source": [
    "hypercoast.download_pace(results[:1], out_dir=\"data\")"
   ]
  },
  {
   "cell_type": "markdown",
   "metadata": {},
   "source": [
    "## Read PACE data\n",
    "\n",
    "Read PACE AOP data as an `xarray.Dataset`:"
   ]
  },
  {
   "cell_type": "code",
   "execution_count": null,
   "metadata": {
    "id": "oY5qbVGL-_JF"
   },
   "outputs": [],
   "source": [
    "filepath = \"data/PACE_OCI.20240730T181157.L2.OC_AOP.V2_0.NRT.nc\"\n",
    "dataset = hypercoast.read_pace(filepath)\n",
    "# dataset"
   ]
  },
  {
   "cell_type": "markdown",
   "metadata": {},
   "source": [
    "![image](https://github.com/user-attachments/assets/56b1fae3-9acf-4ee1-8dc9-7f6784bedf88)"
   ]
  },
  {
   "cell_type": "markdown",
   "metadata": {
    "id": "NYo6cw13-_JI"
   },
   "source": [
    "## Compute band ratios"
   ]
  },
  {
   "cell_type": "code",
   "execution_count": null,
   "metadata": {
    "id": "ZQ7TxZZa-_JI"
   },
   "outputs": [],
   "source": [
    "da = cyano_band_ratios(dataset, plot=True)"
   ]
  },
  {
   "cell_type": "markdown",
   "metadata": {
    "id": "KRF5ow0x-_JJ"
   },
   "source": [
    "## The spectra of cyanobacteria bloom:\n",
    "\n",
    "![](https://i.imgur.com/pQP50bz.png)"
   ]
  },
  {
   "cell_type": "markdown",
   "metadata": {
    "id": "7WHdt4El-_JJ"
   },
   "source": [
    "## Cyanobacteria and Spectral Angle Mapper\n",
    "\n",
    "Spectral Angle Mapper: Spectral similarity\n",
    "Input: library of Cyanobacteria bloom Rrs spectra with Chla at different levels\n",
    "\n",
    "Spectral Mixture Analysis: unmix different cyanobacteria species based on spectral difference.\n",
    "\n",
    "![](https://i.imgur.com/xLaLMA4.png)"
   ]
  },
  {
   "cell_type": "markdown",
   "metadata": {},
   "source": [
    "## K-means applied to the whole image"
   ]
  },
  {
   "cell_type": "code",
   "execution_count": null,
   "metadata": {},
   "outputs": [],
   "source": [
    "cluster_labels, latitudes, longitudes = apply_kmeans(dataset, n_clusters=6)"
   ]
  },
  {
   "cell_type": "markdown",
   "metadata": {},
   "source": [
    "## K-means applied to selected pixels"
   ]
  },
  {
   "cell_type": "code",
   "execution_count": null,
   "metadata": {
    "id": "qqtpdP4qelVT"
   },
   "outputs": [],
   "source": [
    "da = dataset[\"Rrs\"]\n",
    "\n",
    "filter_condition = (\n",
    "    (da.sel(wavelength=650) > da.sel(wavelength=620))\n",
    "    & (da.sel(wavelength=701) > da.sel(wavelength=681))\n",
    "    & (da.sel(wavelength=701) > da.sel(wavelength=450))\n",
    ")\n",
    "extent = [-95, -85, 27, 33]\n",
    "colors = [\"#e41a1c\", \"#377eb8\", \"#4daf4a\", \"#f781bf\", \"#a65628\", \"#984ea3\"]\n",
    "\n",
    "cluster_labels, latitudes, longitudes = apply_kmeans(\n",
    "    da, n_clusters=6, filter_condition=filter_condition, extent=extent, colors=colors\n",
    ")"
   ]
  },
  {
   "cell_type": "markdown",
   "metadata": {},
   "source": [
    "## Principal Component Analysis (PCA)"
   ]
  },
  {
   "cell_type": "code",
   "execution_count": null,
   "metadata": {},
   "outputs": [],
   "source": [
    "pca_data = apply_pca(dataset, n_components=3, x_component=0, y_component=1)"
   ]
  },
  {
   "cell_type": "code",
   "execution_count": null,
   "metadata": {},
   "outputs": [],
   "source": [
    "pca_data = apply_pca(dataset, n_components=3, x_component=1, y_component=2)"
   ]
  },
  {
   "cell_type": "markdown",
   "metadata": {},
   "source": [
    "## Spectral Angle Mapper (SAM)\n",
    "\n",
    "### Apply SAM to the whole image"
   ]
  },
  {
   "cell_type": "code",
   "execution_count": null,
   "metadata": {},
   "outputs": [],
   "source": [
    "data, latitudes, longitudes = apply_sam(\n",
    "    dataset,\n",
    "    n_components=3,\n",
    "    n_clusters=6,\n",
    ")"
   ]
  },
  {
   "cell_type": "markdown",
   "metadata": {},
   "source": [
    "### Apply SAM to selected pixels"
   ]
  },
  {
   "cell_type": "code",
   "execution_count": null,
   "metadata": {},
   "outputs": [],
   "source": [
    "extent = [-95, -85, 27, 33]\n",
    "colors = [\"#377eb8\", \"#ff7f00\", \"#4daf4a\", \"#f781bf\", \"#a65628\", \"#984ea3\"]\n",
    "data, latitudes, longitudes = apply_sam(\n",
    "    dataset,\n",
    "    n_components=3,\n",
    "    n_clusters=6,\n",
    "    extent=extent,\n",
    "    colors=colors,\n",
    ")"
   ]
  },
  {
   "cell_type": "markdown",
   "metadata": {},
   "source": [
    "### Apply SAM with a filtering condition"
   ]
  },
  {
   "cell_type": "code",
   "execution_count": null,
   "metadata": {},
   "outputs": [],
   "source": [
    "da = dataset[\"Rrs\"]\n",
    "\n",
    "filter_condition = (\n",
    "    (da.sel(wavelength=650) > da.sel(wavelength=620))\n",
    "    & (da.sel(wavelength=701) > da.sel(wavelength=681))\n",
    "    & (da.sel(wavelength=701) > da.sel(wavelength=450))\n",
    ")\n",
    "extent = [-95, -85, 27, 33]\n",
    "colors = [\"#e41a1c\", \"#377eb8\", \"#4daf4a\", \"#f781bf\", \"#a65628\", \"#984ea3\"]\n",
    "\n",
    "data, latitudes, longitudes = apply_sam(\n",
    "    dataset,\n",
    "    n_components=3,\n",
    "    n_clusters=6,\n",
    "    filter_condition=filter_condition,\n",
    "    extent=extent,\n",
    "    colors=colors,\n",
    ")"
   ]
  },
  {
   "cell_type": "markdown",
   "metadata": {},
   "source": [
    "### Use spectral library"
   ]
  },
  {
   "cell_type": "code",
   "execution_count": null,
   "metadata": {},
   "outputs": [],
   "source": [
    "filepath = \"data/PACE_OCI.20240730T181157.L2.OC_AOP.V2_0.NRT.nc\"\n",
    "dataset = hypercoast.read_pace(filepath)\n",
    "url = \"https://github.com/opengeos/datasets/releases/download/hypercoast/SAM_spectral_library.zip\"\n",
    "hypercoast.download_file(url)\n",
    "spectral_library = \"./SAM_spectral_library/*.csv\""
   ]
  },
  {
   "cell_type": "code",
   "execution_count": null,
   "metadata": {},
   "outputs": [],
   "source": [
    "extent = [-95, -85, 27, 33]\n",
    "data, latitudes, longitudes = apply_sam_spectral(\n",
    "    dataset,\n",
    "    spectral_library=spectral_library,\n",
    "    extent=extent,\n",
    ")"
   ]
  },
  {
   "cell_type": "code",
   "execution_count": null,
   "metadata": {},
   "outputs": [],
   "source": [
    "da = dataset[\"Rrs\"]\n",
    "extent = [-95, -85, 27, 33]\n",
    "filter_condition = (\n",
    "    (da.sel(wavelength=650) > da.sel(wavelength=620))\n",
    "    & (da.sel(wavelength=701) > da.sel(wavelength=681))\n",
    "    & (da.sel(wavelength=701) > da.sel(wavelength=450))\n",
    ")\n",
    "data, latitudes, longitudes = apply_sam_spectral(\n",
    "    da,\n",
    "    spectral_library=spectral_library,\n",
    "    filter_condition=filter_condition,\n",
    "    extent=extent,\n",
    ")"
   ]
  }
 ],
 "metadata": {
  "colab": {
   "provenance": []
  },
  "kernelspec": {
   "display_name": "hyper",
   "language": "python",
   "name": "python3"
  },
  "language_info": {
   "codemirror_mode": {
    "name": "ipython",
    "version": 3
   },
   "file_extension": ".py",
   "mimetype": "text/x-python",
   "name": "python",
   "nbconvert_exporter": "python",
   "pygments_lexer": "ipython3",
   "version": "3.10.14"
  }
 },
 "nbformat": 4,
 "nbformat_minor": 4
}
