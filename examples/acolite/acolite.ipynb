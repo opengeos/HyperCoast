{
 "cells": [
  {
   "cell_type": "markdown",
   "metadata": {},
   "source": [
    "[![image](https://colab.research.google.com/assets/colab-badge.svg)](https://colab.research.google.com/github/opengeos/HyperCoast/blob/main/docs/examples/acolite.ipynb)\n",
    "\n",
    "# Atmospheric Correction with Acolite\n",
    "\n",
    "\n",
    "[Acolite](https://github.com/acolite/acolite) can perform atmospheric correction on a variety of satellite sensors, including Landsat, Sentinel-2, PACE, EMIT, AVIRIS, among others. For more information on how to use Acolite, please refer to the [Acolite manual](https://github.com/acolite/acolite/releases/download/20231023.0/acolite_manual_20231023.pdf.)\n",
    "\n",
    "\n",
    "In this example, we will use Acolite to perform atmospheric correction on a Sentinel-2 image."
   ]
  },
  {
   "cell_type": "code",
   "execution_count": null,
   "metadata": {},
   "outputs": [],
   "source": [
    "# %pip install \"hypercoast[extra]\""
   ]
  },
  {
   "cell_type": "markdown",
   "metadata": {},
   "source": [
    "## Import libraries"
   ]
  },
  {
   "cell_type": "code",
   "execution_count": null,
   "metadata": {},
   "outputs": [],
   "source": [
    "import os\n",
    "import hypercoast"
   ]
  },
  {
   "cell_type": "markdown",
   "metadata": {},
   "source": [
    "## Download sample data"
   ]
  },
  {
   "cell_type": "code",
   "execution_count": null,
   "metadata": {},
   "outputs": [],
   "source": [
    "url = \"https://github.com/opengeos/datasets/releases/download/hypercoast/S2A_MSIL1C_20160920T164452_N0204_R083_T15RYN_20160920T164450.SAFE.zip\"\n",
    "work_dir = os.path.expanduser(\"~/Downloads\")\n",
    "filepath = os.path.join(work_dir, os.path.basename(url))\n",
    "hypercoast.download_file(url, filepath, quiet=True)"
   ]
  },
  {
   "cell_type": "code",
   "execution_count": null,
   "metadata": {},
   "outputs": [],
   "source": [
    "input_dir = filepath.replace(\".zip\", \"\")\n",
    "if not os.path.exists(input_dir):\n",
    "    raise FileNotFoundError(f\"Directory {input_dir} not found\")"
   ]
  },
  {
   "cell_type": "markdown",
   "metadata": {},
   "source": [
    "## Download Acolite software"
   ]
  },
  {
   "cell_type": "code",
   "execution_count": null,
   "metadata": {},
   "outputs": [],
   "source": [
    "acolite_dir = hypercoast.download_acolite(work_dir)\n",
    "print(f\"Acolite directory: {acolite_dir}\")"
   ]
  },
  {
   "cell_type": "markdown",
   "metadata": {},
   "source": [
    "## Run Acolite"
   ]
  },
  {
   "cell_type": "code",
   "execution_count": null,
   "metadata": {},
   "outputs": [],
   "source": [
    "out_dir = os.path.join(work_dir, \"output\")"
   ]
  },
  {
   "cell_type": "code",
   "execution_count": null,
   "metadata": {},
   "outputs": [],
   "source": [
    "hypercoast.run_acolite(\n",
    "    acolite_dir=acolite_dir,\n",
    "    input_file=input_dir,\n",
    "    out_dir=out_dir,\n",
    "    l2w_parameters=\"Rrs_*,chl_oc3,chl_re_mishra,spm_nechad2016\",\n",
    "    rgb_rhot=True,\n",
    "    rgb_rhos=False,\n",
    "    map_l2w=True,\n",
    ")"
   ]
  },
  {
   "cell_type": "markdown",
   "metadata": {},
   "source": [
    "## Batch processing\n",
    "\n",
    "To process multiple images, put all the images in a folder. For example, unzip all the images in the `data` folder. Then, run the following code to make sure that all image folders are listed."
   ]
  },
  {
   "cell_type": "code",
   "execution_count": null,
   "metadata": {},
   "outputs": [],
   "source": [
    "input_dir = os.path.join(work_dir, \"data\")\n",
    "input_files = [os.path.join(input_dir, f) for f in os.listdir(input_dir)]\n",
    "input_files"
   ]
  },
  {
   "cell_type": "markdown",
   "metadata": {},
   "source": [
    "Run the following code to process all images in the `data` folder."
   ]
  },
  {
   "cell_type": "code",
   "execution_count": null,
   "metadata": {},
   "outputs": [],
   "source": [
    "hypercoast.run_acolite(\n",
    "    acolite_dir=acolite_dir,\n",
    "    input_file=input_files,\n",
    "    out_dir=out_dir,\n",
    "    l2w_parameters=\"Rrs_*,chl_oc3,chl_re_mishra,spm_nechad2016\",\n",
    "    rgb_rhot=True,\n",
    "    rgb_rhos=False,\n",
    "    map_l2w=True,\n",
    ")"
   ]
  }
 ],
 "metadata": {
  "kernelspec": {
   "display_name": "hyper",
   "language": "python",
   "name": "python3"
  },
  "language_info": {
   "codemirror_mode": {
    "name": "ipython",
    "version": 3
   },
   "file_extension": ".py",
   "mimetype": "text/x-python",
   "name": "python",
   "nbconvert_exporter": "python",
   "pygments_lexer": "ipython3",
   "version": "3.10.14"
  }
 },
 "nbformat": 4,
 "nbformat_minor": 2
}
