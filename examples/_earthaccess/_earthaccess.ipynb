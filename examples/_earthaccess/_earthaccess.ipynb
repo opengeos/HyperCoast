{
 "cells": [
  {
   "cell_type": "markdown",
   "metadata": {},
   "source": [
    "[![image](https://colab.research.google.com/assets/colab-badge.svg)](https://colab.research.google.com/github/opengeos/HyperCoast/blob/main/docs/examples/_earthaccess.ipynb)\n",
    "\n",
    "# Testing earthaccess login"
   ]
  },
  {
   "cell_type": "code",
   "execution_count": null,
   "metadata": {},
   "outputs": [],
   "source": [
    "# %pip install \"hypercoast[extra]\""
   ]
  },
  {
   "cell_type": "code",
   "execution_count": null,
   "metadata": {},
   "outputs": [],
   "source": [
    "import os\n",
    "import earthaccess\n",
    "import hypercoast"
   ]
  },
  {
   "cell_type": "code",
   "execution_count": null,
   "metadata": {},
   "outputs": [],
   "source": [
    "# os.environ[\"EARTHDATA_USERNAME\"] = \"your_username\"\n",
    "# os.environ[\"EARTHDATA_PASSWORD\"] = \"your_password\""
   ]
  },
  {
   "cell_type": "code",
   "execution_count": null,
   "metadata": {},
   "outputs": [],
   "source": [
    "if os.environ.get(\"EARTHDATA_USERNAME\") is None:\n",
    "    raise ValueError(\"Please set the EARTHDATA_USERNAME environment variable\")\n",
    "if os.environ.get(\"EARTHDATA_PASSWORD\") is None:\n",
    "    raise ValueError(\"Please set the EARTHDATA_PASSWORD environment variable\")"
   ]
  },
  {
   "cell_type": "code",
   "execution_count": null,
   "metadata": {},
   "outputs": [],
   "source": [
    "earthaccess.login(persist=True)"
   ]
  },
  {
   "cell_type": "code",
   "execution_count": null,
   "metadata": {},
   "outputs": [],
   "source": [
    "results, gdf = hypercoast.search_pace(\n",
    "    bounding_box=(-83, 25, -81, 28),\n",
    "    temporal=(\"2024-07-30\", \"2024-08-15\"),\n",
    "    short_name=\"PACE_OCI_L2_AOP_NRT\",\n",
    "    count=10,\n",
    "    return_gdf=True,\n",
    ")"
   ]
  },
  {
   "cell_type": "code",
   "execution_count": null,
   "metadata": {},
   "outputs": [],
   "source": [
    "hypercoast.download_pace(results[:1], out_dir=\"data\")"
   ]
  },
  {
   "cell_type": "code",
   "execution_count": null,
   "metadata": {},
   "outputs": [],
   "source": [
    "filepath = \"data/PACE_OCI.20240730T181157.L2.OC_AOP.V2_0.NRT.nc\"\n",
    "if not os.path.exists(filepath):\n",
    "    raise FileNotFoundError(filepath)"
   ]
  }
 ],
 "metadata": {
  "kernelspec": {
   "display_name": "hyper",
   "language": "python",
   "name": "python3"
  },
  "language_info": {
   "codemirror_mode": {
    "name": "ipython",
    "version": 3
   },
   "file_extension": ".py",
   "mimetype": "text/x-python",
   "name": "python",
   "nbconvert_exporter": "python",
   "pygments_lexer": "ipython3",
   "version": "3.10.14"
  }
 },
 "nbformat": 4,
 "nbformat_minor": 2
}
