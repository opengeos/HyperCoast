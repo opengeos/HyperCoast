{
 "cells": [
  {
   "cell_type": "markdown",
   "metadata": {},
   "source": [
    "[![image](https://colab.research.google.com/assets/colab-badge.svg)](https://colab.research.google.com/github/opengeos/HyperCoast/blob/main/docs/workshops/pace.ipynb)\n",
    "\n",
    "# Working with NASA PACE data in HyperCoast\n",
    "\n",
    "This notebook demonstrates how to visualize and analyze Plankton, Aerosol, Cloud, ocean Ecosystem ([PACE](https://pace.gsfc.nasa.gov/)) data interactively with HyperCoast.\n",
    "\n",
    "## Environment setup\n",
    "\n",
    "Uncomment and run the following cell to install the required packages."
   ]
  },
  {
   "cell_type": "code",
   "execution_count": null,
   "metadata": {},
   "outputs": [],
   "source": [
    "# %pip install \"hypercoast[extra]\""
   ]
  },
  {
   "cell_type": "markdown",
   "metadata": {},
   "source": [
    "Import libraries."
   ]
  },
  {
   "cell_type": "code",
   "execution_count": null,
   "metadata": {},
   "outputs": [],
   "source": [
    "import earthaccess\n",
    "import hypercoast\n",
    "import pandas as pd"
   ]
  },
  {
   "cell_type": "markdown",
   "metadata": {},
   "source": [
    "## Search for PACE data\n",
    "\n",
    "To download and access the data, you will need to create an Earthdata login. You can register for an account at [urs.earthdata.nasa.gov](https://urs.earthdata.nasa.gov). Once you have an account, run the following cell and enter your NASA Earthdata login credentials."
   ]
  },
  {
   "cell_type": "code",
   "execution_count": null,
   "metadata": {},
   "outputs": [],
   "source": [
    "earthaccess.login(persist=True)"
   ]
  },
  {
   "cell_type": "markdown",
   "metadata": {},
   "source": [
    "### Search data programmatically\n",
    "\n",
    "To search for PACE data programmatically, specify the bounding box and time range of interest. Set `count=-1` to return all results or set `count=10` to return the first 10 results."
   ]
  },
  {
   "cell_type": "code",
   "execution_count": null,
   "metadata": {},
   "outputs": [],
   "source": [
    "results, gdf = hypercoast.search_pace(\n",
    "    bounding_box=(-83, 25, -81, 28),\n",
    "    temporal=(\"2024-07-30\", \"2024-08-15\"),\n",
    "    short_name=\"PACE_OCI_L2_AOP_NRT\",\n",
    "    count=10,\n",
    "    return_gdf=True,\n",
    ")"
   ]
  },
  {
   "cell_type": "markdown",
   "metadata": {},
   "source": [
    "Plot the footprints of the returned datasets on a map."
   ]
  },
  {
   "cell_type": "code",
   "execution_count": null,
   "metadata": {},
   "outputs": [],
   "source": [
    "gdf.explore()"
   ]
  },
  {
   "cell_type": "markdown",
   "metadata": {},
   "source": [
    "Download the first dataset from the search results. Note that the download may take some time."
   ]
  },
  {
   "cell_type": "code",
   "execution_count": null,
   "metadata": {},
   "outputs": [],
   "source": [
    "hypercoast.download_pace(results[:1], out_dir=\"data\")"
   ]
  },
  {
   "cell_type": "markdown",
   "metadata": {},
   "source": [
    "### Search data interactively\n",
    "\n",
    "To search for PACE data interactively, pan and zoom to the area of interest. Specify the time range of interest from the search dialog, then click on the Search button."
   ]
  },
  {
   "cell_type": "code",
   "execution_count": null,
   "metadata": {},
   "outputs": [],
   "source": [
    "m = hypercoast.Map(center=[30.0262, -90.1345], zoom=8)\n",
    "m.search_pace(default_dataset=\"PACE_OCI_L2_AOP_NRT\")\n",
    "m"
   ]
  },
  {
   "cell_type": "markdown",
   "metadata": {},
   "source": [
    "By default, the `search_pace` method searches for the `PACE_OCI_L2_AOP_NRT` dataset, but you can specify the dataset name by setting the `default_dataset` parameter, such as `PACE_OCI_L2_BGC_NRT`. For more information about the available datasets, see the [PACE Data Products](https://pace.oceansciences.org/data_table.htm) page."
   ]
  },
  {
   "cell_type": "markdown",
   "metadata": {},
   "source": [
    "![image](https://github.com/user-attachments/assets/2c45ad43-c405-402a-92e8-42f497730fbb)"
   ]
  },
  {
   "cell_type": "markdown",
   "metadata": {},
   "source": [
    "Uncomment the following cell to display the GeoDataFrame of the search results."
   ]
  },
  {
   "cell_type": "code",
   "execution_count": null,
   "metadata": {},
   "outputs": [],
   "source": [
    "# m._NASA_DATA_GDF.head()"
   ]
  },
  {
   "cell_type": "markdown",
   "metadata": {},
   "source": [
    "Similarly, you can download the first dataset from the search results by uncommenting the following cell."
   ]
  },
  {
   "cell_type": "code",
   "execution_count": null,
   "metadata": {},
   "outputs": [],
   "source": [
    "# hypercoast.download_pace(results[:1], out_dir=\"data\")"
   ]
  },
  {
   "cell_type": "markdown",
   "metadata": {},
   "source": [
    "## Read PACE data\n",
    "\n",
    "Let's download a sample PACE Apparent Optical Properties ([AOP](https://pace.oceansciences.org/pace_eq_aop.htm)) dataset for the demonstration."
   ]
  },
  {
   "cell_type": "code",
   "execution_count": null,
   "metadata": {},
   "outputs": [],
   "source": [
    "results = hypercoast.search_pace(\n",
    "    bounding_box=(-83, 25, -81, 28),\n",
    "    temporal=(\"2024-07-30\", \"2024-08-15\"),\n",
    "    short_name=\"PACE_OCI_L2_AOP_NRT\",\n",
    "    count=1,\n",
    ")"
   ]
  },
  {
   "cell_type": "code",
   "execution_count": null,
   "metadata": {},
   "outputs": [],
   "source": [
    "hypercoast.download_pace(results[:1], out_dir=\"data\")"
   ]
  },
  {
   "cell_type": "markdown",
   "metadata": {},
   "source": [
    "Let's make a scatter plot of the pixel locations so we can see the irregular spacing."
   ]
  },
  {
   "cell_type": "code",
   "execution_count": null,
   "metadata": {},
   "outputs": [],
   "source": [
    "filepath = \"data/PACE_OCI.20240730T181157.L2.OC_AOP.V2_0.NRT.nc\"\n",
    "plot = hypercoast.view_pace_pixel_locations(filepath, step=20)"
   ]
  },
  {
   "cell_type": "markdown",
   "metadata": {},
   "source": [
    "Load the dataset as a `xarray.Dataset` object."
   ]
  },
  {
   "cell_type": "code",
   "execution_count": null,
   "metadata": {},
   "outputs": [],
   "source": [
    "dataset = hypercoast.read_pace(filepath)\n",
    "# dataset"
   ]
  },
  {
   "cell_type": "markdown",
   "metadata": {},
   "source": [
    "![image](https://github.com/user-attachments/assets/56b1fae3-9acf-4ee1-8dc9-7f6784bedf88)"
   ]
  },
  {
   "cell_type": "markdown",
   "metadata": {},
   "source": [
    "## Visualize PACE AOP data\n",
    "\n",
    "Visualize selected bands of the dataset."
   ]
  },
  {
   "cell_type": "code",
   "execution_count": null,
   "metadata": {},
   "outputs": [],
   "source": [
    "hypercoast.viz_pace(dataset, wavelengths=[500, 510, 520, 530], ncols=2)"
   ]
  },
  {
   "cell_type": "markdown",
   "metadata": {},
   "source": [
    "Add custom projection and administrative boundaries to the map. The default projection is `PlateCarree`. You can specify a custom projection by setting the `crs` parameter. For more information about the available projections, see the [cartopy projection](https://scitools.org.uk/cartopy/docs/latest/reference/projections.html) page."
   ]
  },
  {
   "cell_type": "code",
   "execution_count": null,
   "metadata": {},
   "outputs": [],
   "source": [
    "hypercoast.viz_pace(dataset, wavelengths=[500, 510, 520, 530], ncols=2, crs=\"default\")"
   ]
  },
  {
   "cell_type": "markdown",
   "metadata": {},
   "source": [
    "## Plot spectral signatures\n",
    "\n",
    "Plot the spectral signature of a pixel using the `extract_pace` function. Set `return_plot=True` to return the plot object. "
   ]
  },
  {
   "cell_type": "code",
   "execution_count": null,
   "metadata": {},
   "outputs": [],
   "source": [
    "latitude = 29.9307\n",
    "longitude = -87.9106\n",
    "hypercoast.extract_pace(dataset, latitude, longitude, return_plot=True)"
   ]
  },
  {
   "cell_type": "markdown",
   "metadata": {},
   "source": [
    "To return the extracted values as an xarray `DataArray`, set `return_plot=False`."
   ]
  },
  {
   "cell_type": "code",
   "execution_count": null,
   "metadata": {},
   "outputs": [],
   "source": [
    "array = hypercoast.extract_pace(dataset, latitude, longitude, return_plot=False)\n",
    "# array"
   ]
  },
  {
   "cell_type": "markdown",
   "metadata": {},
   "source": [
    "To plot the spectral signatures of multiple pixels, you can specify the pixel locations as a list of tuples. All pixels within the specified latitude and longitude range will be extracted."
   ]
  },
  {
   "cell_type": "code",
   "execution_count": null,
   "metadata": {},
   "outputs": [],
   "source": [
    "latitude = (29.49, 29.50)\n",
    "longitude = (-88.10, -88.00)\n",
    "hypercoast.filter_pace(dataset, latitude, longitude, return_plot=True)"
   ]
  },
  {
   "cell_type": "markdown",
   "metadata": {},
   "source": [
    "## Interactive visualization\n",
    "\n",
    "### Single-band visualization"
   ]
  },
  {
   "cell_type": "markdown",
   "metadata": {},
   "source": [
    "Visualize a selected band of the dataset interactively use the `add_pace` method and speccify the `wavelengths` parameter."
   ]
  },
  {
   "cell_type": "code",
   "execution_count": null,
   "metadata": {},
   "outputs": [],
   "source": [
    "m = hypercoast.Map()\n",
    "m.add_basemap(\"Hybrid\")\n",
    "wavelengths = [450]\n",
    "m.add_pace(dataset, wavelengths, colormap=\"jet\", vmin=0, vmax=0.02, layer_name=\"PACE\")\n",
    "m.add_colormap(cmap=\"jet\", vmin=0, vmax=0.02, label=\"Reflectance\")\n",
    "m.add(\"spectral\")\n",
    "m.set_center(-80.7382, 26.5295, zoom=6)\n",
    "m"
   ]
  },
  {
   "cell_type": "markdown",
   "metadata": {},
   "source": [
    "Click on the map to display the spectral signature of the selected pixel. "
   ]
  },
  {
   "cell_type": "markdown",
   "metadata": {},
   "source": [
    "![image](https://github.com/user-attachments/assets/6c8fd406-4655-4e2e-9270-ae3c5f484121)"
   ]
  },
  {
   "cell_type": "markdown",
   "metadata": {},
   "source": [
    "Convert the spectral data of the selected pixels to a DataFrame."
   ]
  },
  {
   "cell_type": "code",
   "execution_count": null,
   "metadata": {},
   "outputs": [],
   "source": [
    "df = m.spectral_to_df()\n",
    "df.head()"
   ]
  },
  {
   "cell_type": "markdown",
   "metadata": {},
   "source": [
    "Convert the spectral data of the selected pixels to a GeoDataFrame."
   ]
  },
  {
   "cell_type": "code",
   "execution_count": null,
   "metadata": {},
   "outputs": [],
   "source": [
    "gdf = m.spectral_to_gdf()\n",
    "gdf.head()"
   ]
  },
  {
   "cell_type": "markdown",
   "metadata": {},
   "source": [
    "Convert the spectral data of the selected pixels to a CSV file."
   ]
  },
  {
   "cell_type": "code",
   "execution_count": null,
   "metadata": {},
   "outputs": [],
   "source": [
    "m.spectral_to_csv(\"data/spectral.csv\")"
   ]
  },
  {
   "cell_type": "markdown",
   "metadata": {},
   "source": [
    "### Multi-band visualization\n",
    "\n",
    "Select three spectral bands to visualize as an RGB image."
   ]
  },
  {
   "cell_type": "code",
   "execution_count": null,
   "metadata": {},
   "outputs": [],
   "source": [
    "m = hypercoast.Map()\n",
    "m.add_basemap(\"Hybrid\")\n",
    "wavelengths = [450, 550, 650]\n",
    "m.add_pace(\n",
    "    dataset, wavelengths, indexes=[3, 2, 1], vmin=0, vmax=0.02, layer_name=\"PACE\"\n",
    ")\n",
    "m.add(\"spectral\")\n",
    "m.set_center(-80.7382, 26.5295, zoom=6)\n",
    "m"
   ]
  },
  {
   "cell_type": "markdown",
   "metadata": {},
   "source": [
    "![image](https://github.com/user-attachments/assets/a5b28084-f958-437c-b492-376a15451baa)"
   ]
  },
  {
   "cell_type": "markdown",
   "metadata": {},
   "source": [
    "### Change band combination\n",
    "\n",
    "Click on the gear icon on the toolbar to change the band combination.\n",
    "\n",
    "![image](https://github.com/user-attachments/assets/2b50d6cb-92df-4fdb-a56d-426d3bca2777)\n"
   ]
  },
  {
   "cell_type": "markdown",
   "metadata": {},
   "source": [
    "## PACE BGC data\n",
    "\n",
    "PACE has a variety of data products, including biogeochemical properties. For more information about the available datasets, see the [PACE Data Products](https://pace.oceansciences.org/data_table.htm) page.\n",
    "\n",
    "The PACE Biogeochemical (BGC) data products include chlorophyll-a concentration, particulate organic carbon, and particulate inorganic carbon.\n",
    "\n",
    "### Download PACE BGC data\n",
    "\n",
    "Let's download a sample PACE BGC dataset for the demonstration."
   ]
  },
  {
   "cell_type": "code",
   "execution_count": null,
   "metadata": {},
   "outputs": [],
   "source": [
    "results, gdf = hypercoast.search_nasa_data(\n",
    "    short_name=\"PACE_OCI_L2_BGC_NRT\",\n",
    "    bbox=(-90.5642, 29.9749, -89.7143, 30.42),\n",
    "    temporal=(\"2024-07-30\", \"2024-08-15\"),\n",
    "    count=1,\n",
    "    return_gdf=True,\n",
    ")\n",
    "hypercoast.download_nasa_data(results, out_dir=\"data\")"
   ]
  },
  {
   "cell_type": "markdown",
   "metadata": {},
   "source": [
    "Load the downloaded dataset as an `xarray.Dataset`:"
   ]
  },
  {
   "cell_type": "code",
   "execution_count": null,
   "metadata": {},
   "outputs": [],
   "source": [
    "filepath = \"data/PACE_OCI.20240730T181157.L2.OC_BGC.V2_0.NRT.nc\"\n",
    "dataset = hypercoast.read_pace_bgc(filepath)"
   ]
  },
  {
   "cell_type": "markdown",
   "metadata": {},
   "source": [
    "Let's inspect the data variables contained in the dataset:"
   ]
  },
  {
   "cell_type": "code",
   "execution_count": null,
   "metadata": {},
   "outputs": [],
   "source": [
    "dataset.variables"
   ]
  },
  {
   "cell_type": "markdown",
   "metadata": {},
   "source": [
    "We can see that the dataset contains the following variables:\n",
    "- [Chlorophyll Concentration](https://www.earthdata.nasa.gov/apt/documents/chlor-a/v1.0)\n",
    "- [Phytoplankton Carbon](https://oceancolor.gsfc.nasa.gov/resources/atbd/cphyt/)\n",
    "- [Particulate Organic Carbon](https://oceancolor.gsfc.nasa.gov/resources/atbd/poc/)"
   ]
  },
  {
   "cell_type": "markdown",
   "metadata": {},
   "source": [
    "### Visualize PACE BGC data\n",
    "\n",
    "Since the datasets are not gridded, we need to transform them into gridded data to visualize them. We can use the `grid_pace_bgc` function to transform the dataset into a gridded format.\n",
    "\n",
    "First, transform the `chlor_a` variable into a gridded format:"
   ]
  },
  {
   "cell_type": "code",
   "execution_count": null,
   "metadata": {},
   "outputs": [],
   "source": [
    "chlor_a = hypercoast.grid_pace_bgc(dataset, variable=\"chlor_a\", method=\"linear\")"
   ]
  },
  {
   "cell_type": "markdown",
   "metadata": {},
   "source": [
    "Plot the gridded Chlorophyll Concentration data:"
   ]
  },
  {
   "cell_type": "code",
   "execution_count": null,
   "metadata": {},
   "outputs": [],
   "source": [
    "chlor_a.plot(vmin=0, vmax=20, cmap=\"jet\", size=6)"
   ]
  },
  {
   "cell_type": "markdown",
   "metadata": {},
   "source": [
    "Plot the gridded Phytoplankton Carbon data:"
   ]
  },
  {
   "cell_type": "code",
   "execution_count": null,
   "metadata": {},
   "outputs": [],
   "source": [
    "carbon_phyto = hypercoast.grid_pace_bgc(\n",
    "    dataset, variable=\"carbon_phyto\", method=\"linear\"\n",
    ")\n",
    "carbon_phyto.plot(vmin=0, vmax=120, cmap=\"jet\", size=6)"
   ]
  },
  {
   "cell_type": "markdown",
   "metadata": {},
   "source": [
    "Plot the gridded Particulate Organic Carbon data:"
   ]
  },
  {
   "cell_type": "code",
   "execution_count": null,
   "metadata": {},
   "outputs": [],
   "source": [
    "poc = hypercoast.grid_pace_bgc(dataset, variable=\"poc\", method=\"linear\")\n",
    "poc.plot(vmin=0, vmax=1000, cmap=\"jet\")"
   ]
  },
  {
   "cell_type": "markdown",
   "metadata": {},
   "source": [
    "Plot the gridded BGC data on an interactive map."
   ]
  },
  {
   "cell_type": "code",
   "execution_count": null,
   "metadata": {},
   "outputs": [],
   "source": [
    "m = hypercoast.Map()\n",
    "m.add_basemap(\"Hybrid\")\n",
    "m.add_raster(chlor_a, layer_name=\"Chlorophyll-a\", colormap=\"jet\", vmin=0, vmax=20)\n",
    "m.add_raster(\n",
    "    carbon_phyto, layer_name=\"Phytoplankton Carbon\", colormap=\"plasma\", vmin=0, vmax=120\n",
    ")\n",
    "m.add_raster(\n",
    "    poc, layer_name=\"Particulate Organic Carbon\", colormap=\"coolwarm\", vmin=0, vmax=1000\n",
    ")\n",
    "m.add_layer_manager()\n",
    "\n",
    "m.add_colormap(cmap=\"jet\", vmin=0, vmax=20, label=\"Chlorophyll-a (mg/m3)\")\n",
    "m.add_colormap(cmap=\"plasma\", vmin=0, vmax=120, label=\"Phytoplankton Carbon (mg/m3)\")\n",
    "m.add_colormap(\n",
    "    cmap=\"coolwarm\", vmin=0, vmax=1000, label=\"Particulate Organic Carbon (mg/m3)\"\n",
    ")\n",
    "m.set_center(-80.7382, 26.5295, zoom=6)\n",
    "m"
   ]
  },
  {
   "cell_type": "markdown",
   "metadata": {},
   "source": [
    "![](https://i.imgur.com/AEccc5k.gif)"
   ]
  },
  {
   "cell_type": "markdown",
   "metadata": {},
   "source": [
    "## PACE Chlorophyll Level 3 data\n",
    "\n",
    "PACE Level 3 data products are gridded data products that are derived from Level 2 data. Once of the most common Level 3 data products is the Chlorophyll-Carotenoid Index (CCI) dataset.\n",
    "\n",
    "Let's download some daily PACE Chlorophyll Level 3 data for the demonstration."
   ]
  },
  {
   "cell_type": "code",
   "execution_count": null,
   "metadata": {},
   "outputs": [],
   "source": [
    "temporal = (\"2024-07-30\", \"2024-08-15\")\n",
    "results = hypercoast.search_pace_chla(temporal=temporal)\n",
    "hypercoast.download_nasa_data(results, \"chla\")"
   ]
  },
  {
   "cell_type": "markdown",
   "metadata": {},
   "source": [
    "The downloaded datasets can be found in the `chla` directory, which contains 17 daily files of CCI data in the netCDF format. The date range of the data is from 2024-07-30 to 2024-08-15."
   ]
  },
  {
   "cell_type": "code",
   "execution_count": null,
   "metadata": {},
   "outputs": [],
   "source": [
    "files = \"chla/*nc\""
   ]
  },
  {
   "cell_type": "markdown",
   "metadata": {},
   "source": [
    "Load all the data files in the `chla` directory as an xarray DataArray"
   ]
  },
  {
   "cell_type": "code",
   "execution_count": null,
   "metadata": {},
   "outputs": [],
   "source": [
    "array = hypercoast.read_pace_chla(files)\n",
    "# array"
   ]
  },
  {
   "cell_type": "markdown",
   "metadata": {},
   "source": [
    "![image](https://github.com/user-attachments/assets/3a0011dd-a16a-49e9-8f49-7d96aef1ce1f)"
   ]
  },
  {
   "cell_type": "markdown",
   "metadata": {},
   "source": [
    "Select a date and visualize the chlorophyll-a concentration data with Matplotlib."
   ]
  },
  {
   "cell_type": "code",
   "execution_count": null,
   "metadata": {},
   "outputs": [],
   "source": [
    "hypercoast.viz_pace_chla(array, date=\"2024-07-30\", cmap=\"jet\", size=6)"
   ]
  },
  {
   "cell_type": "markdown",
   "metadata": {},
   "source": [
    "If the date is not specified, the data are averaged over the entire time range."
   ]
  },
  {
   "cell_type": "code",
   "execution_count": null,
   "metadata": {},
   "outputs": [],
   "source": [
    "hypercoast.viz_pace_chla(array, cmap=\"jet\", size=6)"
   ]
  },
  {
   "cell_type": "markdown",
   "metadata": {},
   "source": [
    "To visualize the data interactively, we can select either a single date or aggregate the data over a time range. \n",
    "\n",
    "First, let's select a single date from the data array:"
   ]
  },
  {
   "cell_type": "code",
   "execution_count": null,
   "metadata": {},
   "outputs": [],
   "source": [
    "single_array = array.sel(date=\"2024-07-30\")\n",
    "# single_array"
   ]
  },
  {
   "cell_type": "markdown",
   "metadata": {},
   "source": [
    "Convert the data array to an image that can be displayed on an interactive map."
   ]
  },
  {
   "cell_type": "code",
   "execution_count": null,
   "metadata": {},
   "outputs": [],
   "source": [
    "single_image = hypercoast.pace_chla_to_image(single_array)"
   ]
  },
  {
   "cell_type": "markdown",
   "metadata": {},
   "source": [
    "Create an interactive map and display the image on the map."
   ]
  },
  {
   "cell_type": "code",
   "execution_count": null,
   "metadata": {},
   "outputs": [],
   "source": [
    "m = hypercoast.Map(center=[40, -100], zoom=4)\n",
    "m.add_basemap(\"Hybrid\")\n",
    "m.add_raster(\n",
    "    single_image,\n",
    "    cmap=\"jet\",\n",
    "    vmin=-1,\n",
    "    vmax=2,\n",
    "    layer_name=\"Chlorophyll a\",\n",
    "    zoom_to_layer=False,\n",
    ")\n",
    "label = \"Chlorophyll Concentration [lg(lg(mg m^-3))]\"\n",
    "m.add_colormap(cmap=\"jet\", vmin=-1, vmax=2, label=label)\n",
    "m"
   ]
  },
  {
   "cell_type": "markdown",
   "metadata": {},
   "source": [
    "![image](https://github.com/user-attachments/assets/3d6e41ac-3a42-4296-a459-93ad7509b379)"
   ]
  },
  {
   "cell_type": "markdown",
   "metadata": {},
   "source": [
    "The daily image does not have a global coverage. To visualize the data globally, we can aggregate the data over a time range."
   ]
  },
  {
   "cell_type": "code",
   "execution_count": null,
   "metadata": {},
   "outputs": [],
   "source": [
    "mean_array = array.mean(dim=\"date\")"
   ]
  },
  {
   "cell_type": "markdown",
   "metadata": {},
   "source": [
    "Convert the aggregated data array to an image that can be displayed on an interactive map."
   ]
  },
  {
   "cell_type": "code",
   "execution_count": null,
   "metadata": {},
   "outputs": [],
   "source": [
    "image = hypercoast.pace_chla_to_image(mean_array)"
   ]
  },
  {
   "cell_type": "markdown",
   "metadata": {},
   "source": [
    "Create an interactive map and display the image on the map."
   ]
  },
  {
   "cell_type": "code",
   "execution_count": null,
   "metadata": {},
   "outputs": [],
   "source": [
    "m = hypercoast.Map(center=[40, -100], zoom=4)\n",
    "m.add_basemap(\"Hybrid\")\n",
    "m.add_raster(\n",
    "    image, cmap=\"jet\", vmin=-1, vmax=2, layer_name=\"Chlorophyll a\", zoom_to_layer=False\n",
    ")\n",
    "label = \"Chlorophyll Concentration [lg(lg(mg m^-3))]\"\n",
    "m.add_colormap(cmap=\"jet\", vmin=-1, vmax=2, label=label)\n",
    "m"
   ]
  },
  {
   "cell_type": "markdown",
   "metadata": {},
   "source": [
    "![image](https://github.com/user-attachments/assets/f33cf980-e528-4fd9-bdf7-b1a45b6ca5d4)"
   ]
  },
  {
   "cell_type": "markdown",
   "metadata": {},
   "source": [
    "## Hypoxia Cruise data\n",
    "\n",
    "The [Hypoxia Cruise](https://www.noaa.gov/media-advisory/noaa-partners-to-report-on-2024-gulf-of-mexico-dead-zone-monitoring-cruise) collected water quality data in the Gulf of Mexico from July 21 to August 2, 2024. In this section, we will visualize the cruise sampling locations.\n",
    "\n",
    "First, let's download an Excel file containing the cruise sampling locations."
   ]
  },
  {
   "cell_type": "code",
   "execution_count": null,
   "metadata": {},
   "outputs": [],
   "source": [
    "url = \"https://github.com/opengeos/datasets/releases/download/hypercoast/Hypoxia_Data_Sheet.xlsx\"\n",
    "xls_path = \"data/Hypoxia_Data_Sheet.xlsx\"\n",
    "hypercoast.download_file(url, xls_path, overwrite=True)"
   ]
  },
  {
   "cell_type": "code",
   "execution_count": null,
   "metadata": {},
   "outputs": [],
   "source": [
    "df = pd.read_excel(xls_path)\n",
    "df.head()"
   ]
  },
  {
   "cell_type": "markdown",
   "metadata": {},
   "source": [
    "Filter the data to select only the sampling locations with latitude and longitude coordinates."
   ]
  },
  {
   "cell_type": "code",
   "execution_count": null,
   "metadata": {},
   "outputs": [],
   "source": [
    "df_filtered = df.dropna(subset=[\"Lon\", \"Lat\"]).reset_index(drop=True)\n",
    "df_filtered.head()"
   ]
  },
  {
   "cell_type": "markdown",
   "metadata": {},
   "source": [
    "Download the KML file containing the cruise path."
   ]
  },
  {
   "cell_type": "code",
   "execution_count": null,
   "metadata": {},
   "outputs": [],
   "source": [
    "url = (\n",
    "    \"https://github.com/opengeos/datasets/releases/download/hypercoast/Hypoxia_Path.kml\"\n",
    ")\n",
    "kml_path = \"data/Hypoxia_Path.kml\"\n",
    "hypercoast.download_file(url, kml_path)"
   ]
  },
  {
   "cell_type": "markdown",
   "metadata": {},
   "source": [
    "We will use the PACE AOP dataset acquired on July 30, 2024, to visualize the cruise sampling locations. The dataset should have been downloaded in the previous section."
   ]
  },
  {
   "cell_type": "code",
   "execution_count": null,
   "metadata": {},
   "outputs": [],
   "source": [
    "filepath = \"data/PACE_OCI.20240730T181157.L2.OC_AOP.V2_0.NRT.nc\""
   ]
  },
  {
   "cell_type": "markdown",
   "metadata": {},
   "source": [
    "Read the PACE AOP dataset as an xarray Dataset."
   ]
  },
  {
   "cell_type": "code",
   "execution_count": null,
   "metadata": {},
   "outputs": [],
   "source": [
    "dataset = hypercoast.read_pace(filepath)\n",
    "# dataset"
   ]
  },
  {
   "cell_type": "markdown",
   "metadata": {},
   "source": [
    "Visualize the cruise sampling locations and PACE data on the map."
   ]
  },
  {
   "cell_type": "code",
   "execution_count": null,
   "metadata": {},
   "outputs": [],
   "source": [
    "m = hypercoast.Map()\n",
    "m.add_basemap(\"Hybrid\")\n",
    "wavelengths = [450, 550, 650]\n",
    "m.add_pace(\n",
    "    dataset, wavelengths, indexes=[3, 2, 1], vmin=0, vmax=0.02, layer_name=\"PACE\"\n",
    ")\n",
    "m.add(\"spectral\")\n",
    "style = {\"weight\": 2, \"color\": \"red\"}\n",
    "m.add_kml(kml_path, style=style, layer_name=\"Hypoxia Path\", info_mode=None)\n",
    "m.add_points_from_xy(\n",
    "    df_filtered,\n",
    "    x=\"Lon\",\n",
    "    y=\"Lat\",\n",
    "    max_cluster_radius=50,\n",
    "    layer_name=\"Hypoxia Data Points\",\n",
    ")\n",
    "m.set_center(-91.46118, 28.89758, zoom=8)\n",
    "m"
   ]
  },
  {
   "cell_type": "markdown",
   "metadata": {},
   "source": [
    "![image](https://github.com/user-attachments/assets/9a4bc3b7-2a69-4a94-a4f8-297103cb80d3)"
   ]
  },
  {
   "cell_type": "markdown",
   "metadata": {},
   "source": [
    "## Visualize in-situ data\n",
    "\n",
    "This section demonstrates how to visualize in-situ data on the map. First, let's download a hypothetical in-situ dataset."
   ]
  },
  {
   "cell_type": "code",
   "execution_count": null,
   "metadata": {},
   "outputs": [],
   "source": [
    "url = \"https://github.com/opengeos/datasets/releases/download/hypercoast/pace_sample_points.csv\"\n",
    "data = pd.read_csv(url)\n",
    "data.head()"
   ]
  },
  {
   "cell_type": "markdown",
   "metadata": {},
   "source": [
    "Again, we will use the PACE AOP dataset acquired on July 30, 2024, to visualize the in-situ data. The dataset should have been downloaded in the previous section."
   ]
  },
  {
   "cell_type": "code",
   "execution_count": null,
   "metadata": {},
   "outputs": [],
   "source": [
    "filepath = \"data/PACE_OCI.20240730T181157.L2.OC_AOP.V2_0.NRT.nc\""
   ]
  },
  {
   "cell_type": "markdown",
   "metadata": {},
   "source": [
    "Read the PACE dataset as an xarray Dataset."
   ]
  },
  {
   "cell_type": "code",
   "execution_count": null,
   "metadata": {},
   "outputs": [],
   "source": [
    "dataset = hypercoast.read_pace(filepath)"
   ]
  },
  {
   "cell_type": "markdown",
   "metadata": {},
   "source": [
    "Visualize the in-situ data on the map."
   ]
  },
  {
   "cell_type": "code",
   "execution_count": null,
   "metadata": {},
   "outputs": [],
   "source": [
    "m = hypercoast.Map(center=[27.235094, -87.791748], zoom=6)\n",
    "\n",
    "m.add_basemap(\"Hybrid\")\n",
    "wavelengths = [450]\n",
    "m.add_pace(dataset, wavelengths, colormap=\"jet\", vmin=0, vmax=0.02, layer_name=\"PACE\")\n",
    "m.add_colormap(cmap=\"jet\", vmin=0, vmax=0.02, label=\"Reflectance\")\n",
    "m.add(\"spectral\")\n",
    "\n",
    "m.add_field_data(\n",
    "    data,\n",
    "    x_col=\"wavelength\",\n",
    "    y_col_prefix=\"(\",\n",
    "    x_label=\"Wavelength (nm)\",\n",
    "    y_label=\"Reflectance\",\n",
    "    use_marker_cluster=True,\n",
    ")\n",
    "m.set_center(-87.791748, 27.235094, zoom=6)\n",
    "m"
   ]
  },
  {
   "cell_type": "markdown",
   "metadata": {},
   "source": [
    "Click on any marker to display the in-situ data."
   ]
  },
  {
   "cell_type": "markdown",
   "metadata": {},
   "source": [
    "![image](https://github.com/user-attachments/assets/f4ccaa34-c7d1-47cb-97e5-9c36a86272c8)"
   ]
  },
  {
   "cell_type": "markdown",
   "metadata": {},
   "source": [
    "## Analyze PACE data\n",
    "\n",
    "To anyalyze the PACE data with algorithms, such as K-means clustering, principal component analysis (PCA), or Spectral Angle Mapper (SAM), follow the notebook at https://hypercoast.org/examples/pace_cyano."
   ]
  }
 ],
 "metadata": {
  "kernelspec": {
   "display_name": "Python 3 (ipykernel)",
   "language": "python",
   "name": "python3"
  },
  "language_info": {
   "codemirror_mode": {
    "name": "ipython",
    "version": 3
   },
   "file_extension": ".py",
   "mimetype": "text/x-python",
   "name": "python",
   "nbconvert_exporter": "python",
   "pygments_lexer": "ipython3",
   "version": "3.10.14"
  }
 },
 "nbformat": 4,
 "nbformat_minor": 4
}
